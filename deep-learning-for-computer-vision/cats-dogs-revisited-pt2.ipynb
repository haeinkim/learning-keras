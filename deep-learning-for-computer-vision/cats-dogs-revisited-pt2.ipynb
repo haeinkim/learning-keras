{
 "cells": [
  {
   "cell_type": "markdown",
   "metadata": {},
   "source": [
    "# 1. Using a pre-trained convnet"
   ]
  },
  {
   "cell_type": "markdown",
   "metadata": {},
   "source": [
    "## 1.1 Feature extraction"
   ]
  },
  {
   "cell_type": "markdown",
   "metadata": {},
   "source": [
    "### 1.1.1 Instantiating the VGG16 convolutional base"
   ]
  },
  {
   "cell_type": "code",
   "execution_count": 1,
   "metadata": {
    "scrolled": true
   },
   "outputs": [
    {
     "name": "stderr",
     "output_type": "stream",
     "text": [
      "Using TensorFlow backend.\n"
     ]
    }
   ],
   "source": [
    "from keras.applications import VGG16\n",
    "\n",
    "conv_base = VGG16(weights='imagenet',\n",
    "                  include_top=False,\n",
    "                  input_shape=(150, 150, 3))"
   ]
  },
  {
   "cell_type": "markdown",
   "metadata": {},
   "source": [
    "### 1.1.2 Displaying a summary of the convolutional base"
   ]
  },
  {
   "cell_type": "code",
   "execution_count": 2,
   "metadata": {},
   "outputs": [
    {
     "name": "stdout",
     "output_type": "stream",
     "text": [
      "_________________________________________________________________\n",
      "Layer (type)                 Output Shape              Param #   \n",
      "=================================================================\n",
      "input_1 (InputLayer)         (None, 150, 150, 3)       0         \n",
      "_________________________________________________________________\n",
      "block1_conv1 (Conv2D)        (None, 150, 150, 64)      1792      \n",
      "_________________________________________________________________\n",
      "block1_conv2 (Conv2D)        (None, 150, 150, 64)      36928     \n",
      "_________________________________________________________________\n",
      "block1_pool (MaxPooling2D)   (None, 75, 75, 64)        0         \n",
      "_________________________________________________________________\n",
      "block2_conv1 (Conv2D)        (None, 75, 75, 128)       73856     \n",
      "_________________________________________________________________\n",
      "block2_conv2 (Conv2D)        (None, 75, 75, 128)       147584    \n",
      "_________________________________________________________________\n",
      "block2_pool (MaxPooling2D)   (None, 37, 37, 128)       0         \n",
      "_________________________________________________________________\n",
      "block3_conv1 (Conv2D)        (None, 37, 37, 256)       295168    \n",
      "_________________________________________________________________\n",
      "block3_conv2 (Conv2D)        (None, 37, 37, 256)       590080    \n",
      "_________________________________________________________________\n",
      "block3_conv3 (Conv2D)        (None, 37, 37, 256)       590080    \n",
      "_________________________________________________________________\n",
      "block3_pool (MaxPooling2D)   (None, 18, 18, 256)       0         \n",
      "_________________________________________________________________\n",
      "block4_conv1 (Conv2D)        (None, 18, 18, 512)       1180160   \n",
      "_________________________________________________________________\n",
      "block4_conv2 (Conv2D)        (None, 18, 18, 512)       2359808   \n",
      "_________________________________________________________________\n",
      "block4_conv3 (Conv2D)        (None, 18, 18, 512)       2359808   \n",
      "_________________________________________________________________\n",
      "block4_pool (MaxPooling2D)   (None, 9, 9, 512)         0         \n",
      "_________________________________________________________________\n",
      "block5_conv1 (Conv2D)        (None, 9, 9, 512)         2359808   \n",
      "_________________________________________________________________\n",
      "block5_conv2 (Conv2D)        (None, 9, 9, 512)         2359808   \n",
      "_________________________________________________________________\n",
      "block5_conv3 (Conv2D)        (None, 9, 9, 512)         2359808   \n",
      "_________________________________________________________________\n",
      "block5_pool (MaxPooling2D)   (None, 4, 4, 512)         0         \n",
      "=================================================================\n",
      "Total params: 14,714,688\n",
      "Trainable params: 14,714,688\n",
      "Non-trainable params: 0\n",
      "_________________________________________________________________\n"
     ]
    }
   ],
   "source": [
    "conv_base.summary()"
   ]
  },
  {
   "cell_type": "markdown",
   "metadata": {
    "collapsed": true
   },
   "source": [
    "### 1.1.3 Extracting features using the pre-trained convolutional base"
   ]
  },
  {
   "cell_type": "code",
   "execution_count": 3,
   "metadata": {
    "collapsed": true
   },
   "outputs": [],
   "source": [
    "import os\n",
    "import numpy as np\n",
    "from keras.preprocessing.image import ImageDataGenerator\n",
    "\n",
    "base_dir = '../data/cats_and_dogs_small'\n",
    "train_dir = os.path.join(base_dir, 'train')\n",
    "validation_dir = os.path.join(base_dir, 'validation')\n",
    "test_dir = os.path.join(base_dir, 'test')\n",
    "\n",
    "datagen = ImageDataGenerator(rescale=1./255)\n",
    "batch_size = 20\n",
    "\n",
    "def extract_features(directory, sample_count):\n",
    "    features = np.zeros(shape= (sample_count, 4, 4, 512))\n",
    "    labels = np.zeros(shape= (sample_count))\n",
    "    generator = datagen.flow_from_directory(\n",
    "        directory, \n",
    "        target_size=(150, 150),\n",
    "        batch_size=batch_size,\n",
    "        class_mode='binary')\n",
    "    i = 0\n",
    "    for inputs_batch, labels_batch in generator:\n",
    "        features_batch = conv_base.predict(inputs_batch)\n",
    "        features[i * batch_size : (i + 1) * batch_size] = features_batch\n",
    "        labels[i * batch_size : (i + 1) * batch_size] = labels_batch\n",
    "        i += 1\n",
    "        if i * batch_size >= sample_count:\n",
    "            # Note that since generators yield data indefinitely in a loop\n",
    "            # we must 'break' after every image has been seen once.\n",
    "            break\n",
    "    return features, labels"
   ]
  },
  {
   "cell_type": "code",
   "execution_count": 4,
   "metadata": {},
   "outputs": [
    {
     "name": "stdout",
     "output_type": "stream",
     "text": [
      "Found 2000 images belonging to 2 classes.\n",
      "Found 1000 images belonging to 2 classes.\n",
      "Found 1000 images belonging to 2 classes.\n"
     ]
    }
   ],
   "source": [
    "train_features, train_labels = extract_features(train_dir, 2000)\n",
    "validation_features, validation_labels = extract_features(validation_dir, 1000)\n",
    "test_features, test_labels = extract_features(test_dir, 1000)"
   ]
  },
  {
   "cell_type": "code",
   "execution_count": 5,
   "metadata": {
    "collapsed": true
   },
   "outputs": [],
   "source": [
    "train_features = np.reshape(train_features, (2000, 4 * 4 * 512))\n",
    "validation_features = np.reshape(validation_features, (1000, 4 * 4 * 512))\n",
    "test_features = np.reshape(test_features, (1000, 4 * 4 * 512))"
   ]
  },
  {
   "cell_type": "code",
   "execution_count": 6,
   "metadata": {
    "scrolled": true
   },
   "outputs": [
    {
     "name": "stdout",
     "output_type": "stream",
     "text": [
      "Train on 2000 samples, validate on 1000 samples\n",
      "Epoch 1/30\n",
      "2000/2000 [==============================] - 1s - loss: 0.4585 - acc: 0.7735 - val_loss: 0.3411 - val_acc: 0.8490\n",
      "Epoch 2/30\n",
      "2000/2000 [==============================] - 0s - loss: 0.2933 - acc: 0.8805 - val_loss: 0.2748 - val_acc: 0.8890\n",
      "Epoch 3/30\n",
      "2000/2000 [==============================] - 0s - loss: 0.2390 - acc: 0.9010 - val_loss: 0.2531 - val_acc: 0.8960\n",
      "Epoch 4/30\n",
      "2000/2000 [==============================] - 0s - loss: 0.2094 - acc: 0.9175 - val_loss: 0.2599 - val_acc: 0.8920\n",
      "Epoch 5/30\n",
      "2000/2000 [==============================] - 0s - loss: 0.1734 - acc: 0.9335 - val_loss: 0.2721 - val_acc: 0.8890\n",
      "Epoch 6/30\n",
      "2000/2000 [==============================] - 0s - loss: 0.1550 - acc: 0.9445 - val_loss: 0.2745 - val_acc: 0.8950\n",
      "Epoch 7/30\n",
      "2000/2000 [==============================] - 0s - loss: 0.1457 - acc: 0.9455 - val_loss: 0.2417 - val_acc: 0.9030\n",
      "Epoch 8/30\n",
      "2000/2000 [==============================] - 0s - loss: 0.1247 - acc: 0.9485 - val_loss: 0.2404 - val_acc: 0.9050\n",
      "Epoch 9/30\n",
      "2000/2000 [==============================] - 0s - loss: 0.1066 - acc: 0.9630 - val_loss: 0.3240 - val_acc: 0.8770\n",
      "Epoch 10/30\n",
      "2000/2000 [==============================] - 0s - loss: 0.0937 - acc: 0.9660 - val_loss: 0.2585 - val_acc: 0.9030\n",
      "Epoch 11/30\n",
      "2000/2000 [==============================] - 0s - loss: 0.0842 - acc: 0.9695 - val_loss: 0.2582 - val_acc: 0.9060\n",
      "Epoch 12/30\n",
      "2000/2000 [==============================] - 0s - loss: 0.0761 - acc: 0.9745 - val_loss: 0.2701 - val_acc: 0.9040\n",
      "Epoch 13/30\n",
      "2000/2000 [==============================] - 0s - loss: 0.0700 - acc: 0.9770 - val_loss: 0.2655 - val_acc: 0.9070\n",
      "Epoch 14/30\n",
      "2000/2000 [==============================] - 0s - loss: 0.0590 - acc: 0.9830 - val_loss: 0.2748 - val_acc: 0.9070\n",
      "Epoch 15/30\n",
      "2000/2000 [==============================] - 0s - loss: 0.0575 - acc: 0.9835 - val_loss: 0.3212 - val_acc: 0.8910\n",
      "Epoch 16/30\n",
      "2000/2000 [==============================] - 0s - loss: 0.0445 - acc: 0.9860 - val_loss: 0.3157 - val_acc: 0.8960\n",
      "Epoch 17/30\n",
      "2000/2000 [==============================] - 0s - loss: 0.0404 - acc: 0.9870 - val_loss: 0.3004 - val_acc: 0.9090\n",
      "Epoch 18/30\n",
      "2000/2000 [==============================] - 0s - loss: 0.0371 - acc: 0.9885 - val_loss: 0.3311 - val_acc: 0.8940\n",
      "Epoch 19/30\n",
      "2000/2000 [==============================] - 0s - loss: 0.0334 - acc: 0.9930 - val_loss: 0.3073 - val_acc: 0.9060\n",
      "Epoch 20/30\n",
      "2000/2000 [==============================] - 0s - loss: 0.0302 - acc: 0.9915 - val_loss: 0.3181 - val_acc: 0.9020\n",
      "Epoch 21/30\n",
      "2000/2000 [==============================] - 0s - loss: 0.0230 - acc: 0.9940 - val_loss: 0.3444 - val_acc: 0.9010\n",
      "Epoch 22/30\n",
      "2000/2000 [==============================] - 0s - loss: 0.0240 - acc: 0.9950 - val_loss: 0.3195 - val_acc: 0.9080\n",
      "Epoch 23/30\n",
      "2000/2000 [==============================] - 0s - loss: 0.0180 - acc: 0.9985 - val_loss: 0.3408 - val_acc: 0.9040\n",
      "Epoch 24/30\n",
      "2000/2000 [==============================] - 0s - loss: 0.0175 - acc: 0.9960 - val_loss: 0.3445 - val_acc: 0.9030\n",
      "Epoch 25/30\n",
      "2000/2000 [==============================] - 0s - loss: 0.0147 - acc: 0.9980 - val_loss: 0.4315 - val_acc: 0.8880\n",
      "Epoch 26/30\n",
      "2000/2000 [==============================] - 0s - loss: 0.0141 - acc: 0.9985 - val_loss: 0.3573 - val_acc: 0.9020\n",
      "Epoch 27/30\n",
      "2000/2000 [==============================] - 0s - loss: 0.0130 - acc: 0.9980 - val_loss: 0.3724 - val_acc: 0.9040\n",
      "Epoch 28/30\n",
      "2000/2000 [==============================] - 0s - loss: 0.0097 - acc: 0.9990 - val_loss: 0.3804 - val_acc: 0.9030\n",
      "Epoch 29/30\n",
      "2000/2000 [==============================] - 0s - loss: 0.0083 - acc: 0.9990 - val_loss: 0.3893 - val_acc: 0.9050\n",
      "Epoch 30/30\n",
      "2000/2000 [==============================] - 0s - loss: 0.0085 - acc: 0.9995 - val_loss: 0.4002 - val_acc: 0.9030\n"
     ]
    }
   ],
   "source": [
    "from keras import models\n",
    "from keras import layers\n",
    "from keras import optimizers\n",
    "\n",
    "model = models.Sequential()\n",
    "model.add(layers.Dense(256, activation='relu', input_dim=4 * 4 * 512))\n",
    "model.add(layers.Dropout(0.5))\n",
    "model.add(layers.Dense(1, activation='sigmoid'))\n",
    "\n",
    "model.compile(optimizer=optimizers.RMSprop(lr=1e-4),\n",
    "              loss='binary_crossentropy',\n",
    "              metrics=['acc'])\n",
    "\n",
    "history = model.fit(train_features, train_labels,\n",
    "                    epochs=30, \n",
    "                    batch_size=20,\n",
    "                    validation_data=(validation_features, validation_labels))"
   ]
  },
  {
   "cell_type": "markdown",
   "metadata": {},
   "source": [
    "### 1.1.4 Plotting our results"
   ]
  },
  {
   "cell_type": "code",
   "execution_count": 7,
   "metadata": {},
   "outputs": [
    {
     "data": {
      "image/png": "[encoded data removed]",
      "text/plain": [
       "<matplotlib.figure.Figure at 0x2194460a4e0>"
      ]
     },
     "metadata": {},
     "output_type": "display_data"
    },
    {
     "data": {
      "image/png": "[encoded data removed]",
      "text/plain": [
       "<matplotlib.figure.Figure at 0x2193e5f6470>"
      ]
     },
     "metadata": {},
     "output_type": "display_data"
    }
   ],
   "source": [
    "import matplotlib.pyplot as plt\n",
    "\n",
    "acc = history.history['acc']\n",
    "val_acc = history.history['val_acc']\n",
    "loss = history.history['loss']\n",
    "val_loss = history.history['val_loss']\n",
    "\n",
    "epochs = range(len(acc))\n",
    "\n",
    "plt.plot(epochs, acc, 'bo')\n",
    "plt.plot(epochs, val_acc, 'b')\n",
    "plt.title('Training and validation accuracy')\n",
    "\n",
    "plt.figure()\n",
    "\n",
    "plt.plot(epochs, loss, 'bo')\n",
    "plt.plot(epochs, val_loss, 'b')\n",
    "plt.title('Training and validation accuracy')\n",
    "\n",
    "plt.show()"
   ]
  },
  {
   "cell_type": "markdown",
   "metadata": {},
   "source": [
    "### 1.1.5 Adding a densely-connected classifier on top of the convolutional base"
   ]
  },
  {
   "cell_type": "code",
   "execution_count": 8,
   "metadata": {
    "collapsed": true
   },
   "outputs": [],
   "source": [
    "from keras import models\n",
    "from keras import layers\n",
    "\n",
    "model = models.Sequential()\n",
    "model.add(conv_base)\n",
    "model.add(layers.Flatten())\n",
    "model.add(layers.Dense(256, activation='relu'))\n",
    "model.add(layers.Dense(1, activation='sigmoid'))"
   ]
  },
  {
   "cell_type": "markdown",
   "metadata": {},
   "source": [
    "### 1.1.6 Summary of the extended model"
   ]
  },
  {
   "cell_type": "code",
   "execution_count": 9,
   "metadata": {},
   "outputs": [
    {
     "name": "stdout",
     "output_type": "stream",
     "text": [
      "_________________________________________________________________\n",
      "Layer (type)                 Output Shape              Param #   \n",
      "=================================================================\n",
      "vgg16 (Model)                (None, 4, 4, 512)         14714688  \n",
      "_________________________________________________________________\n",
      "flatten_1 (Flatten)          (None, 8192)              0         \n",
      "_________________________________________________________________\n",
      "dense_3 (Dense)              (None, 256)               2097408   \n",
      "_________________________________________________________________\n",
      "dense_4 (Dense)              (None, 1)                 257       \n",
      "=================================================================\n",
      "Total params: 16,812,353\n",
      "Trainable params: 16,812,353\n",
      "Non-trainable params: 0\n",
      "_________________________________________________________________\n"
     ]
    }
   ],
   "source": [
    "model.summary()"
   ]
  },
  {
   "cell_type": "code",
   "execution_count": 10,
   "metadata": {},
   "outputs": [
    {
     "name": "stdout",
     "output_type": "stream",
     "text": [
      "This is the number of trainable weights before freezing the conv base:  30\n"
     ]
    }
   ],
   "source": [
    "print('This is the number of trainable weights '\n",
    "      'before freezing the conv base: ', len(model.trainable_weights))"
   ]
  },
  {
   "cell_type": "code",
   "execution_count": 11,
   "metadata": {
    "collapsed": true
   },
   "outputs": [],
   "source": [
    "conv_base.trainable = False"
   ]
  },
  {
   "cell_type": "code",
   "execution_count": 12,
   "metadata": {},
   "outputs": [
    {
     "name": "stdout",
     "output_type": "stream",
     "text": [
      "This is the number of trainable weights after freezing the conv base:  4\n"
     ]
    }
   ],
   "source": [
    "print('This is the number of trainable weights '\n",
    "      'after freezing the conv base: ', len(model.trainable_weights))"
   ]
  },
  {
   "cell_type": "markdown",
   "metadata": {},
   "source": [
    "### 1.1.7 Training the model end-to-end with a frozen convolutional base"
   ]
  },
  {
   "cell_type": "code",
   "execution_count": 13,
   "metadata": {
    "scrolled": false
   },
   "outputs": [
    {
     "name": "stdout",
     "output_type": "stream",
     "text": [
      "Found 2000 images belonging to 2 classes.\n",
      "Found 1000 images belonging to 2 classes.\n",
      "Epoch 1/50\n",
      "100/100 [==============================] - 43s - loss: 0.7220 - acc: 0.5385 - val_loss: 0.6386 - val_acc: 0.6630\n",
      "Epoch 2/50\n",
      "100/100 [==============================] - 40s - loss: 0.6764 - acc: 0.5825 - val_loss: 0.8192 - val_acc: 0.5880\n",
      "Epoch 3/50\n",
      "100/100 [==============================] - 41s - loss: 0.6240 - acc: 0.6485 - val_loss: 0.4058 - val_acc: 0.8340\n",
      "Epoch 4/50\n",
      "100/100 [==============================] - 41s - loss: 0.5332 - acc: 0.7395 - val_loss: 0.3334 - val_acc: 0.8600\n",
      "Epoch 5/50\n",
      "100/100 [==============================] - 41s - loss: 0.4763 - acc: 0.7750 - val_loss: 0.3475 - val_acc: 0.8600\n",
      "Epoch 6/50\n",
      "100/100 [==============================] - 41s - loss: 0.4193 - acc: 0.8235 - val_loss: 0.2865 - val_acc: 0.8790\n",
      "Epoch 7/50\n",
      "100/100 [==============================] - 41s - loss: 0.3949 - acc: 0.8420 - val_loss: 0.2329 - val_acc: 0.9090\n",
      "Epoch 8/50\n",
      "100/100 [==============================] - 41s - loss: 0.3645 - acc: 0.8460 - val_loss: 0.2271 - val_acc: 0.9040\n",
      "Epoch 9/50\n",
      "100/100 [==============================] - 41s - loss: 0.3538 - acc: 0.8575 - val_loss: 0.2091 - val_acc: 0.9190\n",
      "Epoch 10/50\n",
      "100/100 [==============================] - 41s - loss: 0.3108 - acc: 0.8665 - val_loss: 0.1770 - val_acc: 0.9330\n",
      "Epoch 11/50\n",
      "100/100 [==============================] - 41s - loss: 0.3386 - acc: 0.8765 - val_loss: 0.2029 - val_acc: 0.9340\n",
      "Epoch 12/50\n",
      "100/100 [==============================] - 41s - loss: 0.2871 - acc: 0.8795 - val_loss: 0.2165 - val_acc: 0.9090\n",
      "Epoch 13/50\n",
      "100/100 [==============================] - 41s - loss: 0.2972 - acc: 0.8860 - val_loss: 0.1879 - val_acc: 0.9320\n",
      "Epoch 14/50\n",
      "100/100 [==============================] - 41s - loss: 0.2877 - acc: 0.8840 - val_loss: 0.1419 - val_acc: 0.9460\n",
      "Epoch 15/50\n",
      "100/100 [==============================] - 40s - loss: 0.2930 - acc: 0.8955 - val_loss: 0.5160 - val_acc: 0.7680\n",
      "Epoch 16/50\n",
      "100/100 [==============================] - 40s - loss: 0.2817 - acc: 0.8930 - val_loss: 0.1667 - val_acc: 0.9390\n",
      "Epoch 17/50\n",
      "100/100 [==============================] - 41s - loss: 0.2992 - acc: 0.8900 - val_loss: 0.2240 - val_acc: 0.9270\n",
      "Epoch 18/50\n",
      "100/100 [==============================] - 40s - loss: 0.2577 - acc: 0.8930 - val_loss: 0.3761 - val_acc: 0.9320\n",
      "Epoch 19/50\n",
      "100/100 [==============================] - 40s - loss: 0.8207 - acc: 0.8800 - val_loss: 0.1477 - val_acc: 0.9330\n",
      "Epoch 20/50\n",
      "100/100 [==============================] - 40s - loss: 0.2596 - acc: 0.9045 - val_loss: 0.1618 - val_acc: 0.9380\n",
      "Epoch 21/50\n",
      "100/100 [==============================] - 41s - loss: 0.2812 - acc: 0.9070 - val_loss: 0.5470 - val_acc: 0.9080\n",
      "Epoch 22/50\n",
      "100/100 [==============================] - 40s - loss: 0.2668 - acc: 0.9075 - val_loss: 0.1660 - val_acc: 0.9360\n",
      "Epoch 23/50\n",
      "100/100 [==============================] - 40s - loss: 0.2664 - acc: 0.8995 - val_loss: 0.3726 - val_acc: 0.8080\n",
      "Epoch 24/50\n",
      "100/100 [==============================] - 40s - loss: 0.2870 - acc: 0.9035 - val_loss: 0.3007 - val_acc: 0.8710\n",
      "Epoch 25/50\n",
      "100/100 [==============================] - 40s - loss: 0.2298 - acc: 0.9240 - val_loss: 0.1927 - val_acc: 0.9320\n",
      "Epoch 26/50\n",
      "100/100 [==============================] - 40s - loss: 0.2274 - acc: 0.9185 - val_loss: 0.1432 - val_acc: 0.9430\n",
      "Epoch 27/50\n",
      "100/100 [==============================] - 40s - loss: 0.2542 - acc: 0.9045 - val_loss: 0.1849 - val_acc: 0.9430\n",
      "Epoch 28/50\n",
      "100/100 [==============================] - 40s - loss: 0.2497 - acc: 0.9140 - val_loss: 0.4868 - val_acc: 0.7860\n",
      "Epoch 29/50\n",
      "100/100 [==============================] - 40s - loss: 0.3403 - acc: 0.9085 - val_loss: 4.1463 - val_acc: 0.7300\n",
      "Epoch 30/50\n",
      "100/100 [==============================] - 40s - loss: 0.4371 - acc: 0.9045 - val_loss: 0.1951 - val_acc: 0.9320\n",
      "Epoch 31/50\n",
      "100/100 [==============================] - 40s - loss: 0.3176 - acc: 0.9175 - val_loss: 0.3373 - val_acc: 0.9340\n",
      "Epoch 32/50\n",
      "100/100 [==============================] - 40s - loss: 0.2947 - acc: 0.8960 - val_loss: 0.1704 - val_acc: 0.9340\n",
      "Epoch 33/50\n",
      "100/100 [==============================] - 40s - loss: 0.4071 - acc: 0.8965 - val_loss: 0.1752 - val_acc: 0.9340\n",
      "Epoch 34/50\n",
      "100/100 [==============================] - 40s - loss: 0.2425 - acc: 0.9265 - val_loss: 0.1636 - val_acc: 0.9340\n",
      "Epoch 35/50\n",
      "100/100 [==============================] - 40s - loss: 0.2633 - acc: 0.9095 - val_loss: 0.3073 - val_acc: 0.8900\n",
      "Epoch 36/50\n",
      "100/100 [==============================] - 40s - loss: 0.4261 - acc: 0.8985 - val_loss: 0.1731 - val_acc: 0.9420\n",
      "Epoch 37/50\n",
      "100/100 [==============================] - 40s - loss: 0.2728 - acc: 0.9030 - val_loss: 0.2671 - val_acc: 0.9150\n",
      "Epoch 38/50\n",
      "100/100 [==============================] - 40s - loss: 0.2745 - acc: 0.9155 - val_loss: 0.4944 - val_acc: 0.9070\n",
      "Epoch 39/50\n",
      "100/100 [==============================] - 40s - loss: 0.3325 - acc: 0.8895 - val_loss: 0.2067 - val_acc: 0.9100\n",
      "Epoch 40/50\n",
      "100/100 [==============================] - 40s - loss: 0.2590 - acc: 0.9185 - val_loss: 0.2444 - val_acc: 0.9330\n",
      "Epoch 41/50\n",
      "100/100 [==============================] - 40s - loss: 0.2378 - acc: 0.9115 - val_loss: 0.1967 - val_acc: 0.9210\n",
      "Epoch 42/50\n",
      "100/100 [==============================] - 40s - loss: 0.4199 - acc: 0.9090 - val_loss: 0.2256 - val_acc: 0.9450\n",
      "Epoch 43/50\n",
      "100/100 [==============================] - 40s - loss: 0.2261 - acc: 0.9165 - val_loss: 0.1443 - val_acc: 0.9420\n",
      "Epoch 44/50\n",
      "100/100 [==============================] - 40s - loss: 0.2838 - acc: 0.9200 - val_loss: 0.5433 - val_acc: 0.9160\n",
      "Epoch 45/50\n",
      "100/100 [==============================] - 40s - loss: 0.2400 - acc: 0.9190 - val_loss: 0.1490 - val_acc: 0.9570\n",
      "Epoch 46/50\n",
      "100/100 [==============================] - 40s - loss: 0.2219 - acc: 0.9240 - val_loss: 0.4464 - val_acc: 0.7750\n",
      "Epoch 47/50\n",
      "100/100 [==============================] - 40s - loss: 0.2282 - acc: 0.9115 - val_loss: 0.3774 - val_acc: 0.9110\n",
      "Epoch 48/50\n",
      "100/100 [==============================] - 40s - loss: 0.2972 - acc: 0.9130 - val_loss: 0.2026 - val_acc: 0.9420\n",
      "Epoch 49/50\n",
      "100/100 [==============================] - 40s - loss: 0.3471 - acc: 0.9120 - val_loss: 0.2399 - val_acc: 0.9240\n",
      "Epoch 50/50\n",
      "100/100 [==============================] - 40s - loss: 0.2290 - acc: 0.9130 - val_loss: 0.2208 - val_acc: 0.9350\n"
     ]
    }
   ],
   "source": [
    "from keras.preprocessing.image import ImageDataGenerator\n",
    "\n",
    "train_datagen = ImageDataGenerator(\n",
    "        rescale=1./255,\n",
    "        rotation_range=40,\n",
    "        width_shift_range=0.2,\n",
    "        height_shift_range=0.2,\n",
    "        shear_range=0.2,\n",
    "        zoom_range=0.2,\n",
    "        horizontal_flip=True,\n",
    "        fill_mode='nearest')\n",
    "\n",
    "# Note that the validation data should not be augmented!\n",
    "validation_datagen = ImageDataGenerator(rescale=1./255)\n",
    "\n",
    "train_generator = train_datagen.flow_from_directory(\n",
    "        # This is the target directory\n",
    "        train_dir,\n",
    "        # All images will be resized to 150x150\n",
    "        target_size=(150, 150),\n",
    "        batch_size=20,\n",
    "        # Since we use binary_crossentropy loss, we need binary labels\n",
    "        class_mode='binary')\n",
    "\n",
    "validation_generator = validation_datagen.flow_from_directory(\n",
    "        validation_dir,\n",
    "        target_size=(150, 150),\n",
    "        batch_size=20,\n",
    "        class_mode='binary')\n",
    "\n",
    "model.compile(loss='binary_crossentropy',\n",
    "              optimizer=optimizers.RMSprop(lr=1e-4),\n",
    "              metrics=['acc'])\n",
    "\n",
    "history = model.fit_generator(\n",
    "    train_generator,\n",
    "    steps_per_epoch=100,\n",
    "    epochs=50,\n",
    "    validation_data=validation_generator,\n",
    "    validation_steps=50)"
   ]
  },
  {
   "cell_type": "markdown",
   "metadata": {},
   "source": [
    "### 1.1.8 Plotting our results"
   ]
  },
  {
   "cell_type": "code",
   "execution_count": 14,
   "metadata": {
    "scrolled": false
   },
   "outputs": [
    {
     "data": {
      "image/png": "[encoded data removed]",
      "text/plain": [
       "<matplotlib.figure.Figure at 0x21a90fdb5c0>"
      ]
     },
     "metadata": {},
     "output_type": "display_data"
    },
    {
     "data": {
      "image/png": "[encoded data removed]",
      "text/plain": [
       "<matplotlib.figure.Figure at 0x21a91f2bef0>"
      ]
     },
     "metadata": {},
     "output_type": "display_data"
    }
   ],
   "source": [
    "import matplotlib.pyplot as plt\n",
    "\n",
    "acc = history.history['acc']\n",
    "val_acc = history.history['val_acc']\n",
    "loss = history.history['loss']\n",
    "val_loss = history.history['val_loss']\n",
    "\n",
    "epochs = range(len(acc))\n",
    "\n",
    "plt.plot(epochs, acc, 'bo')\n",
    "plt.plot(epochs, val_acc, 'b')\n",
    "plt.title('Training and validation accuracy')\n",
    "\n",
    "plt.figure()\n",
    "\n",
    "plt.plot(epochs, loss, 'bo')\n",
    "plt.plot(epochs, val_loss, 'b')\n",
    "plt.title('Training and validation accuracy')\n",
    "\n",
    "plt.show()"
   ]
  },
  {
   "cell_type": "markdown",
   "metadata": {},
   "source": [
    "### 1.1.9 Displaying a summary of the convolutional base"
   ]
  },
  {
   "cell_type": "code",
   "execution_count": 15,
   "metadata": {},
   "outputs": [
    {
     "name": "stdout",
     "output_type": "stream",
     "text": [
      "_________________________________________________________________\n",
      "Layer (type)                 Output Shape              Param #   \n",
      "=================================================================\n",
      "input_1 (InputLayer)         (None, 150, 150, 3)       0         \n",
      "_________________________________________________________________\n",
      "block1_conv1 (Conv2D)        (None, 150, 150, 64)      1792      \n",
      "_________________________________________________________________\n",
      "block1_conv2 (Conv2D)        (None, 150, 150, 64)      36928     \n",
      "_________________________________________________________________\n",
      "block1_pool (MaxPooling2D)   (None, 75, 75, 64)        0         \n",
      "_________________________________________________________________\n",
      "block2_conv1 (Conv2D)        (None, 75, 75, 128)       73856     \n",
      "_________________________________________________________________\n",
      "block2_conv2 (Conv2D)        (None, 75, 75, 128)       147584    \n",
      "_________________________________________________________________\n",
      "block2_pool (MaxPooling2D)   (None, 37, 37, 128)       0         \n",
      "_________________________________________________________________\n",
      "block3_conv1 (Conv2D)        (None, 37, 37, 256)       295168    \n",
      "_________________________________________________________________\n",
      "block3_conv2 (Conv2D)        (None, 37, 37, 256)       590080    \n",
      "_________________________________________________________________\n",
      "block3_conv3 (Conv2D)        (None, 37, 37, 256)       590080    \n",
      "_________________________________________________________________\n",
      "block3_pool (MaxPooling2D)   (None, 18, 18, 256)       0         \n",
      "_________________________________________________________________\n",
      "block4_conv1 (Conv2D)        (None, 18, 18, 512)       1180160   \n",
      "_________________________________________________________________\n",
      "block4_conv2 (Conv2D)        (None, 18, 18, 512)       2359808   \n",
      "_________________________________________________________________\n",
      "block4_conv3 (Conv2D)        (None, 18, 18, 512)       2359808   \n",
      "_________________________________________________________________\n",
      "block4_pool (MaxPooling2D)   (None, 9, 9, 512)         0         \n",
      "_________________________________________________________________\n",
      "block5_conv1 (Conv2D)        (None, 9, 9, 512)         2359808   \n",
      "_________________________________________________________________\n",
      "block5_conv2 (Conv2D)        (None, 9, 9, 512)         2359808   \n",
      "_________________________________________________________________\n",
      "block5_conv3 (Conv2D)        (None, 9, 9, 512)         2359808   \n",
      "_________________________________________________________________\n",
      "block5_pool (MaxPooling2D)   (None, 4, 4, 512)         0         \n",
      "=================================================================\n",
      "Total params: 14,714,688\n",
      "Trainable params: 0\n",
      "Non-trainable params: 14,714,688\n",
      "_________________________________________________________________\n"
     ]
    }
   ],
   "source": [
    "conv_base.summary()"
   ]
  },
  {
   "cell_type": "markdown",
   "metadata": {},
   "source": [
    "### 1.1.10 Freezing all alyers up to a specific one"
   ]
  },
  {
   "cell_type": "code",
   "execution_count": 16,
   "metadata": {
    "collapsed": true
   },
   "outputs": [],
   "source": [
    "conv_base.trainable = True\n",
    "\n",
    "set_trainable = False\n",
    "for layer in conv_base.layers:\n",
    "    if layer.name == 'block5_conv1':\n",
    "        set_trainable = True\n",
    "    if set_trainable:\n",
    "        layer.trainable = True\n",
    "    else:\n",
    "        layer.trainable = False"
   ]
  },
  {
   "cell_type": "markdown",
   "metadata": {},
   "source": [
    "### 1.1.11 Fine-tuning our model"
   ]
  },
  {
   "cell_type": "code",
   "execution_count": null,
   "metadata": {
    "collapsed": true
   },
   "outputs": [],
   "source": [
    "model.compile(loss='binary_crossentropy',\n",
    "              optimizer=optimizers.RMSprop(lr=1e-4),\n",
    "              metrics=['acc'])\n",
    "\n",
    "history = model.fit_generator(\n",
    "    train_generator,\n",
    "    steps_per_epoch=100,\n",
    "    epochs=100,\n",
    "    validation_data=validation_generator,\n",
    "    validation_steps=50)"
   ]
  }
 ],
 "metadata": {
  "kernelspec": {
   "display_name": "Python 3",
   "language": "python",
   "name": "python3"
  },
  "language_info": {
   "codemirror_mode": {
    "name": "ipython",
    "version": 3
   },
   "file_extension": ".py",
   "mimetype": "text/x-python",
   "name": "python",
   "nbconvert_exporter": "python",
   "pygments_lexer": "ipython3",
   "version": "3.6.1"
  }
 },
 "nbformat": 4,
 "nbformat_minor": 2
}
