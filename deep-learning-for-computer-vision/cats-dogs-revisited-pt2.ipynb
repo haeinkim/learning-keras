{
 "cells": [
  {
   "cell_type": "markdown",
   "metadata": {},
   "source": [
    "# 1. Using a pre-trained convnet"
   ]
  },
  {
   "cell_type": "markdown",
   "metadata": {},
   "source": [
    "## 1.1 Feature extraction"
   ]
  },
  {
   "cell_type": "markdown",
   "metadata": {},
   "source": [
    "### 1.1.1 Instantiating the VGG16 convolutional base"
   ]
  },
  {
   "cell_type": "code",
   "execution_count": 1,
   "metadata": {
    "scrolled": true
   },
   "outputs": [
    {
     "name": "stderr",
     "output_type": "stream",
     "text": [
      "Using TensorFlow backend.\n"
     ]
    }
   ],
   "source": [
    "from keras.applications import VGG16\n",
    "\n",
    "conv_base = VGG16(weights='imagenet',\n",
    "                  include_top=False,\n",
    "                  input_shape=(150, 150, 3))"
   ]
  },
  {
   "cell_type": "markdown",
   "metadata": {},
   "source": [
    "### 1.1.2 Displaying a summary of the convolutional base"
   ]
  },
  {
   "cell_type": "code",
   "execution_count": 2,
   "metadata": {},
   "outputs": [
    {
     "name": "stdout",
     "output_type": "stream",
     "text": [
      "_________________________________________________________________\n",
      "Layer (type)                 Output Shape              Param #   \n",
      "=================================================================\n",
      "input_1 (InputLayer)         (None, 150, 150, 3)       0         \n",
      "_________________________________________________________________\n",
      "block1_conv1 (Conv2D)        (None, 150, 150, 64)      1792      \n",
      "_________________________________________________________________\n",
      "block1_conv2 (Conv2D)        (None, 150, 150, 64)      36928     \n",
      "_________________________________________________________________\n",
      "block1_pool (MaxPooling2D)   (None, 75, 75, 64)        0         \n",
      "_________________________________________________________________\n",
      "block2_conv1 (Conv2D)        (None, 75, 75, 128)       73856     \n",
      "_________________________________________________________________\n",
      "block2_conv2 (Conv2D)        (None, 75, 75, 128)       147584    \n",
      "_________________________________________________________________\n",
      "block2_pool (MaxPooling2D)   (None, 37, 37, 128)       0         \n",
      "_________________________________________________________________\n",
      "block3_conv1 (Conv2D)        (None, 37, 37, 256)       295168    \n",
      "_________________________________________________________________\n",
      "block3_conv2 (Conv2D)        (None, 37, 37, 256)       590080    \n",
      "_________________________________________________________________\n",
      "block3_conv3 (Conv2D)        (None, 37, 37, 256)       590080    \n",
      "_________________________________________________________________\n",
      "block3_pool (MaxPooling2D)   (None, 18, 18, 256)       0         \n",
      "_________________________________________________________________\n",
      "block4_conv1 (Conv2D)        (None, 18, 18, 512)       1180160   \n",
      "_________________________________________________________________\n",
      "block4_conv2 (Conv2D)        (None, 18, 18, 512)       2359808   \n",
      "_________________________________________________________________\n",
      "block4_conv3 (Conv2D)        (None, 18, 18, 512)       2359808   \n",
      "_________________________________________________________________\n",
      "block4_pool (MaxPooling2D)   (None, 9, 9, 512)         0         \n",
      "_________________________________________________________________\n",
      "block5_conv1 (Conv2D)        (None, 9, 9, 512)         2359808   \n",
      "_________________________________________________________________\n",
      "block5_conv2 (Conv2D)        (None, 9, 9, 512)         2359808   \n",
      "_________________________________________________________________\n",
      "block5_conv3 (Conv2D)        (None, 9, 9, 512)         2359808   \n",
      "_________________________________________________________________\n",
      "block5_pool (MaxPooling2D)   (None, 4, 4, 512)         0         \n",
      "=================================================================\n",
      "Total params: 14,714,688\n",
      "Trainable params: 14,714,688\n",
      "Non-trainable params: 0\n",
      "_________________________________________________________________\n"
     ]
    }
   ],
   "source": [
    "conv_base.summary()"
   ]
  },
  {
   "cell_type": "markdown",
   "metadata": {
    "collapsed": true
   },
   "source": [
    "### 1.1.3 Extracting features using the pre-trained convolutional base"
   ]
  },
  {
   "cell_type": "code",
   "execution_count": 3,
   "metadata": {
    "collapsed": true
   },
   "outputs": [],
   "source": [
    "import os\n",
    "import numpy as np\n",
    "from keras.preprocessing.image import ImageDataGenerator\n",
    "\n",
    "base_dir = '../data/cats_and_dogs_small'\n",
    "train_dir = os.path.join(base_dir, 'train')\n",
    "validation_dir = os.path.join(base_dir, 'validation')\n",
    "test_dir = os.path.join(base_dir, 'test')\n",
    "\n",
    "datagen = ImageDataGenerator(rescale=1./255)\n",
    "batch_size = 20\n",
    "\n",
    "def extract_features(directory, sample_count):\n",
    "    features = np.zeros(shape= (sample_count, 4, 4, 512))\n",
    "    labels = np.zeros(shape= (sample_count))\n",
    "    generator = datagen.flow_from_directory(\n",
    "        directory, \n",
    "        target_size=(150, 150),\n",
    "        batch_size=batch_size,\n",
    "        class_mode='binary')\n",
    "    i = 0\n",
    "    for inputs_batch, labels_batch in generator:\n",
    "        features_batch = conv_base.predict(inputs_batch)\n",
    "        features[i * batch_size : (i + 1) * batch_size] = features_batch\n",
    "        labels[i * batch_size : (i + 1) * batch_size] = labels_batch\n",
    "        i += 1\n",
    "        if i * batch_size >= sample_count:\n",
    "            # Note that since generators yield data indefinitely in a loop\n",
    "            # we must 'break' after every image has been seen once.\n",
    "            break\n",
    "    return features, labels"
   ]
  },
  {
   "cell_type": "code",
   "execution_count": 4,
   "metadata": {},
   "outputs": [
    {
     "name": "stdout",
     "output_type": "stream",
     "text": [
      "Found 2000 images belonging to 2 classes.\n",
      "Found 1000 images belonging to 2 classes.\n",
      "Found 1000 images belonging to 2 classes.\n"
     ]
    }
   ],
   "source": [
    "train_features, train_labels = extract_features(train_dir, 2000)\n",
    "validation_features, validation_labels = extract_features(validation_dir, 1000)\n",
    "test_features, test_labels = extract_features(test_dir, 1000)"
   ]
  },
  {
   "cell_type": "code",
   "execution_count": 5,
   "metadata": {
    "collapsed": true
   },
   "outputs": [],
   "source": [
    "train_features = np.reshape(train_features, (2000, 4 * 4 * 512))\n",
    "validation_features = np.reshape(validation_features, (1000, 4 * 4 * 512))\n",
    "test_features = np.reshape(test_features, (1000, 4 * 4 * 512))"
   ]
  },
  {
   "cell_type": "code",
   "execution_count": 6,
   "metadata": {
    "scrolled": true
   },
   "outputs": [
    {
     "name": "stdout",
     "output_type": "stream",
     "text": [
      "Train on 2000 samples, validate on 1000 samples\n",
      "Epoch 1/30\n",
      "2000/2000 [==============================] - 1s - loss: 0.6800 - acc: 0.6060 - val_loss: 0.5371 - val_acc: 0.7800\n",
      "Epoch 2/30\n",
      "2000/2000 [==============================] - 0s - loss: 0.5233 - acc: 0.7420 - val_loss: 0.4456 - val_acc: 0.8320\n",
      "Epoch 3/30\n",
      "2000/2000 [==============================] - 0s - loss: 0.4467 - acc: 0.7935 - val_loss: 0.3978 - val_acc: 0.8480\n",
      "Epoch 4/30\n",
      "2000/2000 [==============================] - 0s - loss: 0.3933 - acc: 0.8310 - val_loss: 0.3597 - val_acc: 0.8680\n",
      "Epoch 5/30\n",
      "2000/2000 [==============================] - 0s - loss: 0.3646 - acc: 0.8400 - val_loss: 0.3377 - val_acc: 0.8740\n",
      "Epoch 6/30\n",
      "2000/2000 [==============================] - 0s - loss: 0.3463 - acc: 0.8600 - val_loss: 0.3221 - val_acc: 0.8780\n",
      "Epoch 7/30\n",
      "2000/2000 [==============================] - 0s - loss: 0.3159 - acc: 0.8730 - val_loss: 0.3087 - val_acc: 0.8830\n",
      "Epoch 8/30\n",
      "2000/2000 [==============================] - 0s - loss: 0.3022 - acc: 0.8800 - val_loss: 0.3010 - val_acc: 0.8860\n",
      "Epoch 9/30\n",
      "2000/2000 [==============================] - 0s - loss: 0.2822 - acc: 0.8885 - val_loss: 0.2908 - val_acc: 0.8860\n",
      "Epoch 10/30\n",
      "2000/2000 [==============================] - 0s - loss: 0.2675 - acc: 0.8980 - val_loss: 0.2822 - val_acc: 0.8910\n",
      "Epoch 11/30\n",
      "2000/2000 [==============================] - 0s - loss: 0.2577 - acc: 0.9055 - val_loss: 0.2760 - val_acc: 0.8930\n",
      "Epoch 12/30\n",
      "2000/2000 [==============================] - 0s - loss: 0.2566 - acc: 0.9010 - val_loss: 0.2715 - val_acc: 0.8970\n",
      "Epoch 13/30\n",
      "2000/2000 [==============================] - 0s - loss: 0.2388 - acc: 0.9105 - val_loss: 0.2683 - val_acc: 0.8950\n",
      "Epoch 14/30\n",
      "2000/2000 [==============================] - 0s - loss: 0.2334 - acc: 0.9140 - val_loss: 0.2619 - val_acc: 0.9000\n",
      "Epoch 15/30\n",
      "2000/2000 [==============================] - 0s - loss: 0.2212 - acc: 0.9130 - val_loss: 0.2578 - val_acc: 0.9030\n",
      "Epoch 16/30\n",
      "2000/2000 [==============================] - 0s - loss: 0.2134 - acc: 0.9165 - val_loss: 0.2548 - val_acc: 0.9000\n",
      "Epoch 17/30\n",
      "2000/2000 [==============================] - 0s - loss: 0.2122 - acc: 0.9200 - val_loss: 0.2526 - val_acc: 0.9000\n",
      "Epoch 18/30\n",
      "2000/2000 [==============================] - 0s - loss: 0.2125 - acc: 0.9245 - val_loss: 0.2530 - val_acc: 0.8980\n",
      "Epoch 19/30\n",
      "2000/2000 [==============================] - 0s - loss: 0.2053 - acc: 0.9250 - val_loss: 0.2487 - val_acc: 0.9060\n",
      "Epoch 20/30\n",
      "2000/2000 [==============================] - 0s - loss: 0.1992 - acc: 0.9265 - val_loss: 0.2494 - val_acc: 0.8960\n",
      "Epoch 21/30\n",
      "2000/2000 [==============================] - 0s - loss: 0.1931 - acc: 0.9315 - val_loss: 0.2485 - val_acc: 0.8980\n",
      "Epoch 22/30\n",
      "2000/2000 [==============================] - 0s - loss: 0.1891 - acc: 0.9320 - val_loss: 0.2436 - val_acc: 0.9030\n",
      "Epoch 23/30\n",
      "2000/2000 [==============================] - 0s - loss: 0.1826 - acc: 0.9360 - val_loss: 0.2462 - val_acc: 0.8950\n",
      "Epoch 24/30\n",
      "2000/2000 [==============================] - 0s - loss: 0.1789 - acc: 0.9405 - val_loss: 0.2408 - val_acc: 0.9060\n",
      "Epoch 25/30\n",
      "2000/2000 [==============================] - 0s - loss: 0.1743 - acc: 0.9450 - val_loss: 0.2441 - val_acc: 0.8970\n",
      "Epoch 26/30\n",
      "2000/2000 [==============================] - 0s - loss: 0.1688 - acc: 0.9355 - val_loss: 0.2389 - val_acc: 0.9070\n",
      "Epoch 27/30\n",
      "2000/2000 [==============================] - 0s - loss: 0.1632 - acc: 0.9440 - val_loss: 0.2461 - val_acc: 0.8930\n",
      "Epoch 28/30\n",
      "2000/2000 [==============================] - 0s - loss: 0.1608 - acc: 0.9460 - val_loss: 0.2387 - val_acc: 0.9020\n",
      "Epoch 29/30\n",
      "2000/2000 [==============================] - 0s - loss: 0.1576 - acc: 0.9475 - val_loss: 0.2359 - val_acc: 0.9070\n",
      "Epoch 30/30\n",
      "2000/2000 [==============================] - 0s - loss: 0.1587 - acc: 0.9420 - val_loss: 0.2359 - val_acc: 0.9050\n"
     ]
    }
   ],
   "source": [
    "from keras import models\n",
    "from keras import layers\n",
    "from keras import optimizers\n",
    "\n",
    "model = models.Sequential()\n",
    "model.add(layers.Dense(256, activation='relu', input_dim=4 * 4 * 512))\n",
    "model.add(layers.Dropout(0.5))\n",
    "model.add(layers.Dense(1, activation='sigmoid'))\n",
    "\n",
    "model.compile(optimizer=optimizers.RMSprop(lr=1e-5),\n",
    "              loss='binary_crossentropy',\n",
    "              metrics=['acc'])\n",
    "\n",
    "history = model.fit(train_features, train_labels,\n",
    "                    epochs=30, \n",
    "                    batch_size=20,\n",
    "                    validation_data=(validation_features, validation_labels))"
   ]
  },
  {
   "cell_type": "markdown",
   "metadata": {},
   "source": [
    "### 1.1.4 Plotting our results"
   ]
  },
  {
   "cell_type": "code",
   "execution_count": 7,
   "metadata": {},
   "outputs": [
    {
     "data": {
      "image/png": "[encoded data removed]",
      "text/plain": [
       "<matplotlib.figure.Figure at 0x1d0064deeb8>"
      ]
     },
     "metadata": {},
     "output_type": "display_data"
    },
    {
     "data": {
      "image/png": "[encoded data removed]",
      "text/plain": [
       "<matplotlib.figure.Figure at 0x1d00087ddd8>"
      ]
     },
     "metadata": {},
     "output_type": "display_data"
    }
   ],
   "source": [
    "import matplotlib.pyplot as plt\n",
    "\n",
    "acc = history.history['acc']\n",
    "val_acc = history.history['val_acc']\n",
    "loss = history.history['loss']\n",
    "val_loss = history.history['val_loss']\n",
    "\n",
    "epochs = range(len(acc))\n",
    "\n",
    "plt.plot(epochs, acc, 'bo')\n",
    "plt.plot(epochs, val_acc, 'b')\n",
    "plt.title('Training and validation accuracy')\n",
    "\n",
    "plt.figure()\n",
    "\n",
    "plt.plot(epochs, loss, 'bo')\n",
    "plt.plot(epochs, val_loss, 'b')\n",
    "plt.title('Training and validation accuracy')\n",
    "\n",
    "plt.show()"
   ]
  },
  {
   "cell_type": "markdown",
   "metadata": {},
   "source": [
    "### 1.1.5 Adding a densely-connected classifier on top of the convolutional base"
   ]
  },
  {
   "cell_type": "code",
   "execution_count": 8,
   "metadata": {
    "collapsed": true
   },
   "outputs": [],
   "source": [
    "from keras import models\n",
    "from keras import layers\n",
    "\n",
    "model = models.Sequential()\n",
    "model.add(conv_base)\n",
    "model.add(layers.Flatten())\n",
    "model.add(layers.Dense(256, activation='relu'))\n",
    "model.add(layers.Dense(1, activation='sigmoid'))"
   ]
  },
  {
   "cell_type": "markdown",
   "metadata": {},
   "source": [
    "### 1.1.6 Summary of the extended model"
   ]
  },
  {
   "cell_type": "code",
   "execution_count": 9,
   "metadata": {},
   "outputs": [
    {
     "name": "stdout",
     "output_type": "stream",
     "text": [
      "_________________________________________________________________\n",
      "Layer (type)                 Output Shape              Param #   \n",
      "=================================================================\n",
      "vgg16 (Model)                (None, 4, 4, 512)         14714688  \n",
      "_________________________________________________________________\n",
      "flatten_1 (Flatten)          (None, 8192)              0         \n",
      "_________________________________________________________________\n",
      "dense_3 (Dense)              (None, 256)               2097408   \n",
      "_________________________________________________________________\n",
      "dense_4 (Dense)              (None, 1)                 257       \n",
      "=================================================================\n",
      "Total params: 16,812,353\n",
      "Trainable params: 16,812,353\n",
      "Non-trainable params: 0\n",
      "_________________________________________________________________\n"
     ]
    }
   ],
   "source": [
    "model.summary()"
   ]
  },
  {
   "cell_type": "code",
   "execution_count": 10,
   "metadata": {},
   "outputs": [
    {
     "name": "stdout",
     "output_type": "stream",
     "text": [
      "This is the number of trainable weights before freezing the conv base:  30\n"
     ]
    }
   ],
   "source": [
    "print('This is the number of trainable weights '\n",
    "      'before freezing the conv base: ', len(model.trainable_weights))"
   ]
  },
  {
   "cell_type": "code",
   "execution_count": 11,
   "metadata": {
    "collapsed": true
   },
   "outputs": [],
   "source": [
    "conv_base.trainable = False"
   ]
  },
  {
   "cell_type": "code",
   "execution_count": 12,
   "metadata": {},
   "outputs": [
    {
     "name": "stdout",
     "output_type": "stream",
     "text": [
      "This is the number of trainable weights after freezing the conv base:  4\n"
     ]
    }
   ],
   "source": [
    "print('This is the number of trainable weights '\n",
    "      'after freezing the conv base: ', len(model.trainable_weights))"
   ]
  },
  {
   "cell_type": "markdown",
   "metadata": {},
   "source": [
    "### 1.1.7 Training the model end-to-end with a frozen convolutional base"
   ]
  },
  {
   "cell_type": "code",
   "execution_count": 13,
   "metadata": {
    "scrolled": true
   },
   "outputs": [
    {
     "name": "stdout",
     "output_type": "stream",
     "text": [
      "Found 2000 images belonging to 2 classes.\n",
      "Found 1000 images belonging to 2 classes.\n",
      "Epoch 1/100\n",
      "100/100 [==============================] - 62s - loss: 0.4482 - acc: 0.7885 - val_loss: 0.2514 - val_acc: 0.8930\n",
      "Epoch 2/100\n",
      "100/100 [==============================] - 60s - loss: 0.2790 - acc: 0.8845 - val_loss: 0.1670 - val_acc: 0.9210\n",
      "Epoch 3/100\n",
      "100/100 [==============================] - 60s - loss: 0.2394 - acc: 0.9010 - val_loss: 0.1487 - val_acc: 0.9370\n",
      "Epoch 4/100\n",
      "100/100 [==============================] - 60s - loss: 0.1883 - acc: 0.9235 - val_loss: 0.1926 - val_acc: 0.9270\n",
      "Epoch 5/100\n",
      "100/100 [==============================] - 60s - loss: 0.1580 - acc: 0.9360 - val_loss: 0.1658 - val_acc: 0.9390\n",
      "Epoch 6/100\n",
      "100/100 [==============================] - 60s - loss: 0.1525 - acc: 0.9340 - val_loss: 0.1039 - val_acc: 0.9530\n",
      "Epoch 7/100\n",
      "100/100 [==============================] - 60s - loss: 0.1419 - acc: 0.9350 - val_loss: 0.1139 - val_acc: 0.9520\n",
      "Epoch 8/100\n",
      "100/100 [==============================] - 60s - loss: 0.1291 - acc: 0.9485 - val_loss: 0.0938 - val_acc: 0.9630\n",
      "Epoch 9/100\n",
      "100/100 [==============================] - 60s - loss: 0.1070 - acc: 0.9545 - val_loss: 0.0952 - val_acc: 0.9610\n",
      "Epoch 10/100\n",
      "100/100 [==============================] - 60s - loss: 0.0982 - acc: 0.9630 - val_loss: 0.0945 - val_acc: 0.9700\n",
      "Epoch 11/100\n",
      "100/100 [==============================] - 60s - loss: 0.0946 - acc: 0.9675 - val_loss: 0.0869 - val_acc: 0.9700\n",
      "Epoch 12/100\n",
      "100/100 [==============================] - 60s - loss: 0.0908 - acc: 0.9640 - val_loss: 0.0845 - val_acc: 0.9700\n",
      "Epoch 13/100\n",
      "100/100 [==============================] - 60s - loss: 0.0989 - acc: 0.9620 - val_loss: 0.1035 - val_acc: 0.9560\n",
      "Epoch 14/100\n",
      "100/100 [==============================] - 60s - loss: 0.0650 - acc: 0.9730 - val_loss: 0.1198 - val_acc: 0.9480\n",
      "Epoch 15/100\n",
      "100/100 [==============================] - 60s - loss: 0.0849 - acc: 0.9660 - val_loss: 0.1146 - val_acc: 0.9660\n",
      "Epoch 16/100\n",
      "100/100 [==============================] - 60s - loss: 0.0616 - acc: 0.9755 - val_loss: 0.0862 - val_acc: 0.9720\n",
      "Epoch 17/100\n",
      "100/100 [==============================] - 60s - loss: 0.0539 - acc: 0.9770 - val_loss: 0.1119 - val_acc: 0.9680\n",
      "Epoch 18/100\n",
      "100/100 [==============================] - 60s - loss: 0.0719 - acc: 0.9745 - val_loss: 0.1151 - val_acc: 0.9670\n",
      "Epoch 19/100\n",
      "100/100 [==============================] - 60s - loss: 0.0496 - acc: 0.9850 - val_loss: 0.0864 - val_acc: 0.9760\n",
      "Epoch 20/100\n",
      "100/100 [==============================] - 60s - loss: 0.0542 - acc: 0.9785 - val_loss: 0.0774 - val_acc: 0.9730\n",
      "Epoch 21/100\n",
      "100/100 [==============================] - 60s - loss: 0.0446 - acc: 0.9855 - val_loss: 0.0935 - val_acc: 0.9720\n",
      "Epoch 22/100\n",
      "100/100 [==============================] - 60s - loss: 0.0590 - acc: 0.9815 - val_loss: 0.1073 - val_acc: 0.9680\n",
      "Epoch 23/100\n",
      "100/100 [==============================] - 60s - loss: 0.0501 - acc: 0.9785 - val_loss: 0.1101 - val_acc: 0.9660\n",
      "Epoch 24/100\n",
      "100/100 [==============================] - 60s - loss: 0.0447 - acc: 0.9810 - val_loss: 0.0889 - val_acc: 0.9730\n",
      "Epoch 25/100\n",
      "100/100 [==============================] - 60s - loss: 0.0430 - acc: 0.9825 - val_loss: 0.1061 - val_acc: 0.9650\n",
      "Epoch 26/100\n",
      "100/100 [==============================] - 60s - loss: 0.0508 - acc: 0.9850 - val_loss: 0.0859 - val_acc: 0.9710\n",
      "Epoch 27/100\n",
      "100/100 [==============================] - 60s - loss: 0.0435 - acc: 0.9860 - val_loss: 0.0905 - val_acc: 0.9710\n",
      "Epoch 28/100\n",
      "100/100 [==============================] - 60s - loss: 0.0339 - acc: 0.9880 - val_loss: 0.1091 - val_acc: 0.9620\n",
      "Epoch 29/100\n",
      "100/100 [==============================] - 60s - loss: 0.0449 - acc: 0.9825 - val_loss: 0.0868 - val_acc: 0.9750\n",
      "Epoch 30/100\n",
      "100/100 [==============================] - 60s - loss: 0.0319 - acc: 0.9865 - val_loss: 0.1031 - val_acc: 0.9730\n",
      "Epoch 31/100\n",
      "100/100 [==============================] - 60s - loss: 0.0303 - acc: 0.9875 - val_loss: 0.1123 - val_acc: 0.9720\n",
      "Epoch 32/100\n",
      "100/100 [==============================] - 60s - loss: 0.0317 - acc: 0.9880 - val_loss: 0.1229 - val_acc: 0.9650\n",
      "Epoch 33/100\n",
      "100/100 [==============================] - 60s - loss: 0.0254 - acc: 0.9900 - val_loss: 0.1010 - val_acc: 0.9770\n",
      "Epoch 34/100\n",
      "100/100 [==============================] - 60s - loss: 0.0349 - acc: 0.9870 - val_loss: 0.1078 - val_acc: 0.9740\n",
      "Epoch 35/100\n",
      "100/100 [==============================] - 60s - loss: 0.0271 - acc: 0.9915 - val_loss: 0.1149 - val_acc: 0.9750\n",
      "Epoch 36/100\n",
      "100/100 [==============================] - 60s - loss: 0.0279 - acc: 0.9915 - val_loss: 0.1046 - val_acc: 0.9700\n",
      "Epoch 37/100\n",
      "100/100 [==============================] - 60s - loss: 0.0261 - acc: 0.9900 - val_loss: 0.1047 - val_acc: 0.9720\n",
      "Epoch 38/100\n",
      "100/100 [==============================] - 60s - loss: 0.0319 - acc: 0.9900 - val_loss: 0.3425 - val_acc: 0.9260\n",
      "Epoch 39/100\n",
      "100/100 [==============================] - 60s - loss: 0.0246 - acc: 0.9900 - val_loss: 0.0774 - val_acc: 0.9740\n",
      "Epoch 40/100\n",
      "100/100 [==============================] - 60s - loss: 0.0287 - acc: 0.9915 - val_loss: 0.0851 - val_acc: 0.9700\n",
      "Epoch 41/100\n",
      "100/100 [==============================] - 60s - loss: 0.0333 - acc: 0.9910 - val_loss: 0.1029 - val_acc: 0.9670\n",
      "Epoch 42/100\n",
      "100/100 [==============================] - 60s - loss: 0.0249 - acc: 0.9910 - val_loss: 0.1181 - val_acc: 0.9670\n",
      "Epoch 43/100\n",
      "100/100 [==============================] - 60s - loss: 0.0223 - acc: 0.9940 - val_loss: 0.0667 - val_acc: 0.9840\n",
      "Epoch 44/100\n",
      "100/100 [==============================] - 60s - loss: 0.0339 - acc: 0.9895 - val_loss: 0.1170 - val_acc: 0.9670\n",
      "Epoch 45/100\n",
      "100/100 [==============================] - 60s - loss: 0.0210 - acc: 0.9940 - val_loss: 0.1140 - val_acc: 0.9650\n",
      "Epoch 46/100\n",
      "100/100 [==============================] - 60s - loss: 0.0232 - acc: 0.9940 - val_loss: 0.0930 - val_acc: 0.9740\n",
      "Epoch 47/100\n",
      "100/100 [==============================] - 60s - loss: 0.0241 - acc: 0.9910 - val_loss: 0.0857 - val_acc: 0.9780\n",
      "Epoch 48/100\n",
      "100/100 [==============================] - 60s - loss: 0.0199 - acc: 0.9925 - val_loss: 0.0953 - val_acc: 0.9780\n",
      "Epoch 49/100\n",
      "100/100 [==============================] - 60s - loss: 0.0211 - acc: 0.9935 - val_loss: 0.1853 - val_acc: 0.9590\n",
      "Epoch 50/100\n",
      "100/100 [==============================] - 60s - loss: 0.0165 - acc: 0.9945 - val_loss: 0.1248 - val_acc: 0.9670\n",
      "Epoch 51/100\n",
      "100/100 [==============================] - 60s - loss: 0.0104 - acc: 0.9965 - val_loss: 0.1617 - val_acc: 0.9680\n",
      "Epoch 52/100\n",
      "100/100 [==============================] - 60s - loss: 0.0311 - acc: 0.9910 - val_loss: 0.3035 - val_acc: 0.9490\n",
      "Epoch 53/100\n",
      "100/100 [==============================] - 60s - loss: 0.0236 - acc: 0.9925 - val_loss: 0.1370 - val_acc: 0.9700\n",
      "Epoch 54/100\n",
      "100/100 [==============================] - 60s - loss: 0.0236 - acc: 0.9930 - val_loss: 0.1204 - val_acc: 0.9750\n",
      "Epoch 55/100\n",
      "100/100 [==============================] - 60s - loss: 0.0154 - acc: 0.9945 - val_loss: 0.1015 - val_acc: 0.9730\n",
      "Epoch 56/100\n",
      "100/100 [==============================] - 60s - loss: 0.0284 - acc: 0.9940 - val_loss: 0.1433 - val_acc: 0.9710\n",
      "Epoch 57/100\n",
      "100/100 [==============================] - 60s - loss: 0.0121 - acc: 0.9950 - val_loss: 0.1841 - val_acc: 0.9650\n",
      "Epoch 58/100\n",
      "100/100 [==============================] - 60s - loss: 0.0269 - acc: 0.9930 - val_loss: 0.1115 - val_acc: 0.9770\n",
      "Epoch 59/100\n",
      "100/100 [==============================] - 60s - loss: 0.0068 - acc: 0.9975 - val_loss: 0.1085 - val_acc: 0.9720\n",
      "Epoch 60/100\n",
      "100/100 [==============================] - 60s - loss: 0.0291 - acc: 0.9915 - val_loss: 0.1115 - val_acc: 0.9730\n",
      "Epoch 61/100\n",
      "100/100 [==============================] - 60s - loss: 0.0232 - acc: 0.9925 - val_loss: 0.1295 - val_acc: 0.9740\n",
      "Epoch 62/100\n",
      "100/100 [==============================] - 60s - loss: 0.0154 - acc: 0.9960 - val_loss: 0.1970 - val_acc: 0.9570\n",
      "Epoch 63/100\n",
      "100/100 [==============================] - 60s - loss: 0.0197 - acc: 0.9965 - val_loss: 0.1548 - val_acc: 0.9670\n",
      "Epoch 64/100\n",
      "100/100 [==============================] - 60s - loss: 0.0194 - acc: 0.9940 - val_loss: 0.1127 - val_acc: 0.9730\n",
      "Epoch 65/100\n"
     ]
    },
    {
     "name": "stdout",
     "output_type": "stream",
     "text": [
      "100/100 [==============================] - 60s - loss: 0.0213 - acc: 0.9930 - val_loss: 0.1182 - val_acc: 0.9730\n",
      "Epoch 66/100\n",
      "100/100 [==============================] - 60s - loss: 0.0170 - acc: 0.9955 - val_loss: 0.1329 - val_acc: 0.9680\n",
      "Epoch 67/100\n",
      "100/100 [==============================] - 60s - loss: 0.0113 - acc: 0.9965 - val_loss: 0.0926 - val_acc: 0.9780\n",
      "Epoch 68/100\n",
      "100/100 [==============================] - 60s - loss: 0.0171 - acc: 0.9920 - val_loss: 0.1387 - val_acc: 0.9720\n",
      "Epoch 69/100\n",
      "100/100 [==============================] - 60s - loss: 0.0175 - acc: 0.9945 - val_loss: 0.0937 - val_acc: 0.9800\n",
      "Epoch 70/100\n",
      "100/100 [==============================] - 60s - loss: 0.0154 - acc: 0.9960 - val_loss: 0.1122 - val_acc: 0.9750\n",
      "Epoch 71/100\n",
      "100/100 [==============================] - 60s - loss: 0.0090 - acc: 0.9975 - val_loss: 0.1270 - val_acc: 0.9760\n",
      "Epoch 72/100\n",
      "100/100 [==============================] - 60s - loss: 0.0188 - acc: 0.9955 - val_loss: 0.1384 - val_acc: 0.9780\n",
      "Epoch 73/100\n",
      "100/100 [==============================] - 60s - loss: 0.0101 - acc: 0.9955 - val_loss: 0.1305 - val_acc: 0.9730\n",
      "Epoch 74/100\n",
      "100/100 [==============================] - 60s - loss: 0.0188 - acc: 0.9925 - val_loss: 0.1624 - val_acc: 0.9690\n",
      "Epoch 75/100\n",
      "100/100 [==============================] - 60s - loss: 0.0138 - acc: 0.9960 - val_loss: 0.1111 - val_acc: 0.9770\n",
      "Epoch 76/100\n",
      "100/100 [==============================] - 60s - loss: 0.0147 - acc: 0.9960 - val_loss: 0.1346 - val_acc: 0.9770\n",
      "Epoch 77/100\n",
      "100/100 [==============================] - 60s - loss: 0.0152 - acc: 0.9925 - val_loss: 0.1436 - val_acc: 0.9750\n",
      "Epoch 78/100\n",
      "100/100 [==============================] - 60s - loss: 0.0068 - acc: 0.9970 - val_loss: 0.2514 - val_acc: 0.9640\n",
      "Epoch 79/100\n",
      "100/100 [==============================] - 60s - loss: 0.0226 - acc: 0.9955 - val_loss: 0.2405 - val_acc: 0.9620\n",
      "Epoch 80/100\n",
      "100/100 [==============================] - 60s - loss: 0.0119 - acc: 0.9955 - val_loss: 0.2237 - val_acc: 0.9710\n",
      "Epoch 81/100\n",
      "100/100 [==============================] - 60s - loss: 0.0078 - acc: 0.9980 - val_loss: 0.2003 - val_acc: 0.9650\n",
      "Epoch 82/100\n",
      "100/100 [==============================] - 60s - loss: 0.0132 - acc: 0.9960 - val_loss: 0.1647 - val_acc: 0.9790\n",
      "Epoch 83/100\n",
      "100/100 [==============================] - 60s - loss: 0.0241 - acc: 0.9940 - val_loss: 0.1573 - val_acc: 0.9730\n",
      "Epoch 84/100\n",
      "100/100 [==============================] - 60s - loss: 0.0087 - acc: 0.9975 - val_loss: 0.1648 - val_acc: 0.9740\n",
      "Epoch 85/100\n",
      "100/100 [==============================] - 60s - loss: 0.0206 - acc: 0.9935 - val_loss: 0.1459 - val_acc: 0.9780\n",
      "Epoch 86/100\n",
      "100/100 [==============================] - 60s - loss: 0.0144 - acc: 0.9960 - val_loss: 0.1436 - val_acc: 0.9740\n",
      "Epoch 87/100\n",
      "100/100 [==============================] - 60s - loss: 0.0130 - acc: 0.9965 - val_loss: 0.1235 - val_acc: 0.9710\n",
      "Epoch 88/100\n",
      "100/100 [==============================] - 60s - loss: 0.0072 - acc: 0.9970 - val_loss: 0.2002 - val_acc: 0.9730\n",
      "Epoch 89/100\n",
      "100/100 [==============================] - 60s - loss: 0.0200 - acc: 0.9955 - val_loss: 0.1507 - val_acc: 0.9720\n",
      "Epoch 90/100\n",
      "100/100 [==============================] - 60s - loss: 0.0058 - acc: 0.9980 - val_loss: 0.1464 - val_acc: 0.9710\n",
      "Epoch 91/100\n",
      "100/100 [==============================] - 60s - loss: 0.0192 - acc: 0.9940 - val_loss: 0.1235 - val_acc: 0.9760\n",
      "Epoch 92/100\n",
      "100/100 [==============================] - 60s - loss: 0.0066 - acc: 0.9965 - val_loss: 0.2678 - val_acc: 0.9580\n",
      "Epoch 93/100\n",
      "100/100 [==============================] - 60s - loss: 0.0162 - acc: 0.9945 - val_loss: 0.1371 - val_acc: 0.9720\n",
      "Epoch 94/100\n",
      "100/100 [==============================] - 60s - loss: 0.0159 - acc: 0.9955 - val_loss: 0.1637 - val_acc: 0.9730\n",
      "Epoch 95/100\n",
      "100/100 [==============================] - 60s - loss: 0.0119 - acc: 0.9975 - val_loss: 0.2580 - val_acc: 0.9610\n",
      "Epoch 96/100\n",
      "100/100 [==============================] - 60s - loss: 0.0137 - acc: 0.9980 - val_loss: 0.1613 - val_acc: 0.9730\n",
      "Epoch 97/100\n",
      "100/100 [==============================] - 60s - loss: 0.0088 - acc: 0.9970 - val_loss: 0.2090 - val_acc: 0.9690\n",
      "Epoch 98/100\n",
      "100/100 [==============================] - 60s - loss: 0.0198 - acc: 0.9960 - val_loss: 0.1615 - val_acc: 0.9750\n",
      "Epoch 99/100\n",
      "100/100 [==============================] - 60s - loss: 0.0269 - acc: 0.9940 - val_loss: 0.1588 - val_acc: 0.9740\n",
      "Epoch 100/100\n",
      "100/100 [==============================] - 60s - loss: 0.0198 - acc: 0.9935 - val_loss: 0.1684 - val_acc: 0.9730\n"
     ]
    }
   ],
   "source": [
    "from keras.preprocessing.image import ImageDataGenerator\n",
    "\n",
    "train_datagen = ImageDataGenerator(\n",
    "        rescale=1./255,\n",
    "        rotation_range=40,\n",
    "        width_shift_range=0.2,\n",
    "        height_shift_range=0.2,\n",
    "        shear_range=0.2,\n",
    "        zoom_range=0.2,\n",
    "        horizontal_flip=True,\n",
    "        fill_mode='nearest')\n",
    "\n",
    "# Note that the validation data should not be augmented!\n",
    "validation_datagen = ImageDataGenerator(rescale=1./255)\n",
    "\n",
    "train_generator = train_datagen.flow_from_directory(\n",
    "        # This is the target directory\n",
    "        train_dir,\n",
    "        # All images will be resized to 150x150\n",
    "        target_size=(150, 150),\n",
    "        batch_size=20,\n",
    "        # Since we use binary_crossentropy loss, we need binary labels\n",
    "        class_mode='binary')\n",
    "\n",
    "validation_generator = validation_datagen.flow_from_directory(\n",
    "        validation_dir,\n",
    "        target_size=(150, 150),\n",
    "        batch_size=20,\n",
    "        class_mode='binary')\n",
    "\n",
    "model.compile(loss='binary_crossentropy',\n",
    "              optimizer=optimizers.RMSprop(lr=1e-5),\n",
    "              metrics=['acc'])\n",
    "\n",
    "history = model.fit_generator(\n",
    "    train_generator,\n",
    "    steps_per_epoch=100,\n",
    "    epochs=100,\n",
    "    validation_data=validation_generator,\n",
    "    validation_steps=50)"
   ]
  },
  {
   "cell_type": "markdown",
   "metadata": {},
   "source": [
    "### 1.1.8 Plotting our results (2)"
   ]
  },
  {
   "cell_type": "code",
   "execution_count": 14,
   "metadata": {
    "scrolled": false
   },
   "outputs": [
    {
     "data": {
      "image/png": "[encoded data removed]",
      "text/plain": [
       "<matplotlib.figure.Figure at 0x1d111172be0>"
      ]
     },
     "metadata": {},
     "output_type": "display_data"
    },
    {
     "data": {
      "image/png": "[encoded data removed]",
      "text/plain": [
       "<matplotlib.figure.Figure at 0x1d12c899b38>"
      ]
     },
     "metadata": {},
     "output_type": "display_data"
    }
   ],
   "source": [
    "import matplotlib.pyplot as plt\n",
    "\n",
    "acc = history.history['acc']\n",
    "val_acc = history.history['val_acc']\n",
    "loss = history.history['loss']\n",
    "val_loss = history.history['val_loss']\n",
    "\n",
    "epochs = range(len(acc))\n",
    "\n",
    "plt.plot(epochs, acc, 'bo')\n",
    "plt.plot(epochs, val_acc, 'b')\n",
    "plt.title('Training and validation accuracy')\n",
    "\n",
    "plt.figure()\n",
    "\n",
    "plt.plot(epochs, loss, 'bo')\n",
    "plt.plot(epochs, val_loss, 'b')\n",
    "plt.title('Training and validation accuracy')\n",
    "\n",
    "plt.show()"
   ]
  },
  {
   "cell_type": "markdown",
   "metadata": {},
   "source": [
    "### 1.1.9 Displaying a summary of the convolutional base"
   ]
  },
  {
   "cell_type": "code",
   "execution_count": 15,
   "metadata": {},
   "outputs": [
    {
     "name": "stdout",
     "output_type": "stream",
     "text": [
      "_________________________________________________________________\n",
      "Layer (type)                 Output Shape              Param #   \n",
      "=================================================================\n",
      "input_1 (InputLayer)         (None, 150, 150, 3)       0         \n",
      "_________________________________________________________________\n",
      "block1_conv1 (Conv2D)        (None, 150, 150, 64)      1792      \n",
      "_________________________________________________________________\n",
      "block1_conv2 (Conv2D)        (None, 150, 150, 64)      36928     \n",
      "_________________________________________________________________\n",
      "block1_pool (MaxPooling2D)   (None, 75, 75, 64)        0         \n",
      "_________________________________________________________________\n",
      "block2_conv1 (Conv2D)        (None, 75, 75, 128)       73856     \n",
      "_________________________________________________________________\n",
      "block2_conv2 (Conv2D)        (None, 75, 75, 128)       147584    \n",
      "_________________________________________________________________\n",
      "block2_pool (MaxPooling2D)   (None, 37, 37, 128)       0         \n",
      "_________________________________________________________________\n",
      "block3_conv1 (Conv2D)        (None, 37, 37, 256)       295168    \n",
      "_________________________________________________________________\n",
      "block3_conv2 (Conv2D)        (None, 37, 37, 256)       590080    \n",
      "_________________________________________________________________\n",
      "block3_conv3 (Conv2D)        (None, 37, 37, 256)       590080    \n",
      "_________________________________________________________________\n",
      "block3_pool (MaxPooling2D)   (None, 18, 18, 256)       0         \n",
      "_________________________________________________________________\n",
      "block4_conv1 (Conv2D)        (None, 18, 18, 512)       1180160   \n",
      "_________________________________________________________________\n",
      "block4_conv2 (Conv2D)        (None, 18, 18, 512)       2359808   \n",
      "_________________________________________________________________\n",
      "block4_conv3 (Conv2D)        (None, 18, 18, 512)       2359808   \n",
      "_________________________________________________________________\n",
      "block4_pool (MaxPooling2D)   (None, 9, 9, 512)         0         \n",
      "_________________________________________________________________\n",
      "block5_conv1 (Conv2D)        (None, 9, 9, 512)         2359808   \n",
      "_________________________________________________________________\n",
      "block5_conv2 (Conv2D)        (None, 9, 9, 512)         2359808   \n",
      "_________________________________________________________________\n",
      "block5_conv3 (Conv2D)        (None, 9, 9, 512)         2359808   \n",
      "_________________________________________________________________\n",
      "block5_pool (MaxPooling2D)   (None, 4, 4, 512)         0         \n",
      "=================================================================\n",
      "Total params: 14,714,688\n",
      "Trainable params: 0\n",
      "Non-trainable params: 14,714,688\n",
      "_________________________________________________________________\n"
     ]
    }
   ],
   "source": [
    "conv_base.summary()"
   ]
  },
  {
   "cell_type": "markdown",
   "metadata": {},
   "source": [
    "### 1.1.10 Freezing all alyers up to a specific one"
   ]
  },
  {
   "cell_type": "code",
   "execution_count": 16,
   "metadata": {
    "collapsed": true
   },
   "outputs": [],
   "source": [
    "conv_base.trainable = True\n",
    "\n",
    "set_trainable = False\n",
    "for layer in conv_base.layers:\n",
    "    if layer.name == 'block5_conv1':\n",
    "        set_trainable = True\n",
    "    if set_trainable:\n",
    "        layer.trainable = True\n",
    "    else:\n",
    "        layer.trainable = False"
   ]
  },
  {
   "cell_type": "markdown",
   "metadata": {},
   "source": [
    "### 1.1.11 Fine-tuning our model"
   ]
  },
  {
   "cell_type": "code",
   "execution_count": 19,
   "metadata": {},
   "outputs": [
    {
     "name": "stdout",
     "output_type": "stream",
     "text": [
      "Epoch 1/100\n",
      "100/100 [==============================] - 28s - loss: 0.2000 - acc: 0.9765 - val_loss: 0.2337 - val_acc: 0.9610\n",
      "Epoch 2/100\n",
      "100/100 [==============================] - 28s - loss: 0.1173 - acc: 0.9790 - val_loss: 0.1525 - val_acc: 0.9760\n",
      "Epoch 3/100\n",
      "100/100 [==============================] - 28s - loss: 0.0453 - acc: 0.9875 - val_loss: 0.2506 - val_acc: 0.9690\n",
      "Epoch 4/100\n",
      "100/100 [==============================] - 28s - loss: 0.0576 - acc: 0.9870 - val_loss: 0.1405 - val_acc: 0.9770\n",
      "Epoch 5/100\n",
      "100/100 [==============================] - 28s - loss: 0.0598 - acc: 0.9845 - val_loss: 0.2274 - val_acc: 0.9570\n",
      "Epoch 6/100\n",
      "100/100 [==============================] - 28s - loss: 0.0544 - acc: 0.9875 - val_loss: 0.1811 - val_acc: 0.9780\n",
      "Epoch 7/100\n",
      "100/100 [==============================] - 28s - loss: 0.0861 - acc: 0.9855 - val_loss: 0.2207 - val_acc: 0.9610\n",
      "Epoch 8/100\n",
      "100/100 [==============================] - 28s - loss: 0.0567 - acc: 0.9905 - val_loss: 0.1841 - val_acc: 0.9670\n",
      "Epoch 9/100\n",
      "100/100 [==============================] - 28s - loss: 0.0415 - acc: 0.9895 - val_loss: 0.1097 - val_acc: 0.9700\n",
      "Epoch 10/100\n",
      "100/100 [==============================] - 28s - loss: 0.0376 - acc: 0.9940 - val_loss: 0.4557 - val_acc: 0.9670\n",
      "Epoch 11/100\n",
      "100/100 [==============================] - 28s - loss: 0.1026 - acc: 0.9860 - val_loss: 0.3834 - val_acc: 0.9680\n",
      "Epoch 12/100\n",
      "100/100 [==============================] - 28s - loss: 0.0587 - acc: 0.9890 - val_loss: 0.2519 - val_acc: 0.9730\n",
      "Epoch 13/100\n",
      "100/100 [==============================] - 28s - loss: 0.1081 - acc: 0.9895 - val_loss: 0.2988 - val_acc: 0.9680\n",
      "Epoch 14/100\n",
      "100/100 [==============================] - 28s - loss: 0.0512 - acc: 0.9855 - val_loss: 0.2032 - val_acc: 0.9740\n",
      "Epoch 15/100\n",
      "100/100 [==============================] - 28s - loss: 0.0830 - acc: 0.9870 - val_loss: 0.2293 - val_acc: 0.9670\n",
      "Epoch 16/100\n",
      "100/100 [==============================] - 29s - loss: 0.0624 - acc: 0.9860 - val_loss: 0.2858 - val_acc: 0.9640\n",
      "Epoch 17/100\n",
      "100/100 [==============================] - 28s - loss: 0.0764 - acc: 0.9855 - val_loss: 0.2566 - val_acc: 0.9610\n",
      "Epoch 18/100\n",
      "100/100 [==============================] - 28s - loss: 0.0513 - acc: 0.9910 - val_loss: 0.2716 - val_acc: 0.9700\n",
      "Epoch 19/100\n",
      "100/100 [==============================] - 29s - loss: 0.0700 - acc: 0.9855 - val_loss: 0.2272 - val_acc: 0.9720\n",
      "Epoch 20/100\n",
      "100/100 [==============================] - 28s - loss: 0.0812 - acc: 0.9850 - val_loss: 0.2625 - val_acc: 0.9670\n",
      "Epoch 21/100\n",
      "100/100 [==============================] - 28s - loss: 0.0856 - acc: 0.9900 - val_loss: 0.2448 - val_acc: 0.9730\n",
      "Epoch 22/100\n",
      "100/100 [==============================] - 28s - loss: 0.0562 - acc: 0.9895 - val_loss: 0.1489 - val_acc: 0.9670\n",
      "Epoch 23/100\n",
      "100/100 [==============================] - 28s - loss: 0.0693 - acc: 0.9890 - val_loss: 0.2057 - val_acc: 0.9650\n",
      "Epoch 24/100\n",
      "100/100 [==============================] - 28s - loss: 0.0584 - acc: 0.9905 - val_loss: 1.9191 - val_acc: 0.8540\n",
      "Epoch 25/100\n",
      "100/100 [==============================] - 28s - loss: 0.0615 - acc: 0.9910 - val_loss: 0.2880 - val_acc: 0.9680\n",
      "Epoch 26/100\n",
      "100/100 [==============================] - 28s - loss: 0.0914 - acc: 0.9830 - val_loss: 0.2944 - val_acc: 0.9640\n",
      "Epoch 27/100\n",
      "100/100 [==============================] - 28s - loss: 0.0220 - acc: 0.9930 - val_loss: 0.2046 - val_acc: 0.9710\n",
      "Epoch 28/100\n",
      "100/100 [==============================] - 28s - loss: 0.0626 - acc: 0.9900 - val_loss: 0.1859 - val_acc: 0.9720\n",
      "Epoch 29/100\n",
      "100/100 [==============================] - 28s - loss: 0.0857 - acc: 0.9880 - val_loss: 0.2150 - val_acc: 0.9680\n",
      "Epoch 30/100\n",
      "100/100 [==============================] - 29s - loss: 0.0588 - acc: 0.9930 - val_loss: 0.3082 - val_acc: 0.9680\n",
      "Epoch 31/100\n",
      "100/100 [==============================] - 28s - loss: 0.0526 - acc: 0.9895 - val_loss: 0.1724 - val_acc: 0.9760\n",
      "Epoch 32/100\n",
      "100/100 [==============================] - 28s - loss: 0.0415 - acc: 0.9940 - val_loss: 0.3454 - val_acc: 0.9730\n",
      "Epoch 33/100\n",
      "100/100 [==============================] - 28s - loss: 0.3552 - acc: 0.9755 - val_loss: 0.3389 - val_acc: 0.9640\n",
      "Epoch 34/100\n",
      "100/100 [==============================] - 28s - loss: 0.0595 - acc: 0.9920 - val_loss: 0.3132 - val_acc: 0.9670\n",
      "Epoch 35/100\n",
      "100/100 [==============================] - 28s - loss: 0.0574 - acc: 0.9900 - val_loss: 0.1856 - val_acc: 0.9670\n",
      "Epoch 36/100\n",
      "100/100 [==============================] - 29s - loss: 0.0671 - acc: 0.9910 - val_loss: 0.4934 - val_acc: 0.9430\n",
      "Epoch 37/100\n",
      "100/100 [==============================] - 29s - loss: 0.1477 - acc: 0.9875 - val_loss: 2.1262 - val_acc: 0.8570\n",
      "Epoch 38/100\n",
      "100/100 [==============================] - 28s - loss: 0.1455 - acc: 0.9840 - val_loss: 0.2480 - val_acc: 0.9290\n",
      "Epoch 39/100\n",
      "100/100 [==============================] - 28s - loss: 0.0813 - acc: 0.9865 - val_loss: 0.3365 - val_acc: 0.9610\n",
      "Epoch 40/100\n",
      "100/100 [==============================] - 28s - loss: 0.0617 - acc: 0.9915 - val_loss: 0.3282 - val_acc: 0.9680\n",
      "Epoch 41/100\n",
      "100/100 [==============================] - 28s - loss: 0.0872 - acc: 0.9915 - val_loss: 0.4765 - val_acc: 0.9590\n",
      "Epoch 42/100\n",
      "100/100 [==============================] - 28s - loss: 0.0825 - acc: 0.9900 - val_loss: 0.2336 - val_acc: 0.9690\n",
      "Epoch 43/100\n",
      "100/100 [==============================] - 28s - loss: 0.0456 - acc: 0.9915 - val_loss: 0.3393 - val_acc: 0.9670\n",
      "Epoch 44/100\n",
      "100/100 [==============================] - 28s - loss: 0.0604 - acc: 0.9920 - val_loss: 0.2771 - val_acc: 0.9770\n",
      "Epoch 45/100\n",
      "100/100 [==============================] - 28s - loss: 0.0785 - acc: 0.9925 - val_loss: 0.2816 - val_acc: 0.9690\n",
      "Epoch 46/100\n",
      "100/100 [==============================] - 29s - loss: 0.0526 - acc: 0.9910 - val_loss: 0.4303 - val_acc: 0.9580\n",
      "Epoch 47/100\n",
      "100/100 [==============================] - 29s - loss: 0.0718 - acc: 0.9850 - val_loss: 0.2634 - val_acc: 0.9610\n",
      "Epoch 48/100\n",
      "100/100 [==============================] - 28s - loss: 0.0738 - acc: 0.9885 - val_loss: 0.2099 - val_acc: 0.9620\n",
      "Epoch 49/100\n",
      "100/100 [==============================] - 28s - loss: 0.0904 - acc: 0.9875 - val_loss: 0.5830 - val_acc: 0.9560\n",
      "Epoch 50/100\n",
      "100/100 [==============================] - 28s - loss: 0.0907 - acc: 0.9850 - val_loss: 0.4184 - val_acc: 0.9500\n",
      "Epoch 51/100\n",
      "100/100 [==============================] - 28s - loss: 0.0662 - acc: 0.9910 - val_loss: 0.4133 - val_acc: 0.9580\n",
      "Epoch 52/100\n",
      "100/100 [==============================] - 28s - loss: 0.0563 - acc: 0.9890 - val_loss: 0.3349 - val_acc: 0.9670\n",
      "Epoch 53/100\n",
      "100/100 [==============================] - 28s - loss: 0.1257 - acc: 0.9900 - val_loss: 0.3977 - val_acc: 0.9690\n",
      "Epoch 54/100\n",
      "100/100 [==============================] - 28s - loss: 0.1441 - acc: 0.9875 - val_loss: 0.5041 - val_acc: 0.9620\n",
      "Epoch 55/100\n",
      "100/100 [==============================] - 28s - loss: 0.1215 - acc: 0.9855 - val_loss: 0.3244 - val_acc: 0.9680\n",
      "Epoch 56/100\n",
      "100/100 [==============================] - 28s - loss: 0.0536 - acc: 0.9940 - val_loss: 0.6114 - val_acc: 0.9570\n",
      "Epoch 57/100\n",
      "100/100 [==============================] - 28s - loss: 0.1019 - acc: 0.9915 - val_loss: 0.4897 - val_acc: 0.9630\n",
      "Epoch 58/100\n",
      "100/100 [==============================] - 28s - loss: 0.1082 - acc: 0.9895 - val_loss: 0.4265 - val_acc: 0.9650\n",
      "Epoch 59/100\n",
      "100/100 [==============================] - 28s - loss: 0.0713 - acc: 0.9905 - val_loss: 0.3148 - val_acc: 0.9580\n",
      "Epoch 60/100\n",
      "100/100 [==============================] - 28s - loss: 0.0693 - acc: 0.9925 - val_loss: 0.3415 - val_acc: 0.9730\n",
      "Epoch 61/100\n",
      "100/100 [==============================] - 28s - loss: 0.0695 - acc: 0.9910 - val_loss: 0.3222 - val_acc: 0.9670\n",
      "Epoch 62/100\n",
      "100/100 [==============================] - 28s - loss: 0.1231 - acc: 0.9860 - val_loss: 0.3499 - val_acc: 0.9720\n",
      "Epoch 63/100\n",
      "100/100 [==============================] - 28s - loss: 0.0796 - acc: 0.9870 - val_loss: 0.3111 - val_acc: 0.9650\n",
      "Epoch 64/100\n",
      "100/100 [==============================] - 28s - loss: 0.0888 - acc: 0.9925 - val_loss: 0.5415 - val_acc: 0.9640\n",
      "Epoch 65/100\n",
      "100/100 [==============================] - 28s - loss: 0.1703 - acc: 0.9875 - val_loss: 1.0415 - val_acc: 0.9300\n",
      "Epoch 66/100\n"
     ]
    },
    {
     "name": "stdout",
     "output_type": "stream",
     "text": [
      "100/100 [==============================] - 28s - loss: 0.0466 - acc: 0.9935 - val_loss: 0.4171 - val_acc: 0.9650\n",
      "Epoch 67/100\n",
      "100/100 [==============================] - 28s - loss: 0.1014 - acc: 0.9925 - val_loss: 0.5611 - val_acc: 0.9630\n",
      "Epoch 68/100\n",
      "100/100 [==============================] - 28s - loss: 0.0895 - acc: 0.9915 - val_loss: 0.3515 - val_acc: 0.9700\n",
      "Epoch 69/100\n",
      "100/100 [==============================] - 28s - loss: 0.2129 - acc: 0.9835 - val_loss: 0.3911 - val_acc: 0.9710\n",
      "Epoch 70/100\n",
      "100/100 [==============================] - 28s - loss: 0.0343 - acc: 0.9930 - val_loss: 0.4979 - val_acc: 0.9500\n",
      "Epoch 71/100\n",
      "100/100 [==============================] - 28s - loss: 0.0872 - acc: 0.9925 - val_loss: 0.4542 - val_acc: 0.9640\n",
      "Epoch 72/100\n",
      "100/100 [==============================] - 28s - loss: 0.1003 - acc: 0.9870 - val_loss: 0.2828 - val_acc: 0.9720\n",
      "Epoch 73/100\n",
      "100/100 [==============================] - 28s - loss: 0.1205 - acc: 0.9860 - val_loss: 0.3345 - val_acc: 0.9650\n",
      "Epoch 74/100\n",
      "100/100 [==============================] - 28s - loss: 0.0491 - acc: 0.9925 - val_loss: 0.3622 - val_acc: 0.9620\n",
      "Epoch 75/100\n",
      "100/100 [==============================] - 28s - loss: 0.0477 - acc: 0.9940 - val_loss: 0.5060 - val_acc: 0.9650\n",
      "Epoch 76/100\n",
      "100/100 [==============================] - 28s - loss: 0.0568 - acc: 0.9925 - val_loss: 0.6635 - val_acc: 0.9470\n",
      "Epoch 77/100\n",
      "100/100 [==============================] - 28s - loss: 0.0612 - acc: 0.9910 - val_loss: 0.5838 - val_acc: 0.9490\n",
      "Epoch 78/100\n",
      "100/100 [==============================] - 28s - loss: 0.0764 - acc: 0.9910 - val_loss: 0.3813 - val_acc: 0.9690\n",
      "Epoch 79/100\n",
      "100/100 [==============================] - 28s - loss: 0.0523 - acc: 0.9935 - val_loss: 0.5712 - val_acc: 0.9570\n",
      "Epoch 80/100\n",
      "100/100 [==============================] - 28s - loss: 0.0404 - acc: 0.9950 - val_loss: 0.4157 - val_acc: 0.9710\n",
      "Epoch 81/100\n",
      "100/100 [==============================] - 28s - loss: 0.2282 - acc: 0.9840 - val_loss: 0.4288 - val_acc: 0.9690\n",
      "Epoch 82/100\n",
      "100/100 [==============================] - 28s - loss: 0.0926 - acc: 0.9935 - val_loss: 0.5207 - val_acc: 0.9630\n",
      "Epoch 83/100\n",
      "100/100 [==============================] - 28s - loss: 0.1260 - acc: 0.9910 - val_loss: 0.4777 - val_acc: 0.9670\n",
      "Epoch 84/100\n",
      "100/100 [==============================] - 28s - loss: 0.1734 - acc: 0.9875 - val_loss: 0.6423 - val_acc: 0.9600\n",
      "Epoch 85/100\n",
      "100/100 [==============================] - 28s - loss: 0.2096 - acc: 0.9850 - val_loss: 0.6755 - val_acc: 0.9560\n",
      "Epoch 86/100\n",
      "100/100 [==============================] - 28s - loss: 0.1108 - acc: 0.9860 - val_loss: 0.3159 - val_acc: 0.9710\n",
      "Epoch 87/100\n",
      "100/100 [==============================] - 28s - loss: 0.0969 - acc: 0.9890 - val_loss: 0.5150 - val_acc: 0.9500\n",
      "Epoch 88/100\n",
      "100/100 [==============================] - 28s - loss: 0.0530 - acc: 0.9910 - val_loss: 0.4879 - val_acc: 0.9600\n",
      "Epoch 89/100\n",
      "100/100 [==============================] - 28s - loss: 0.0725 - acc: 0.9885 - val_loss: 0.4678 - val_acc: 0.9610\n",
      "Epoch 90/100\n",
      "100/100 [==============================] - 28s - loss: 0.0531 - acc: 0.9900 - val_loss: 0.4863 - val_acc: 0.9610\n",
      "Epoch 91/100\n",
      "100/100 [==============================] - 28s - loss: 0.0716 - acc: 0.9950 - val_loss: 0.4966 - val_acc: 0.9670\n",
      "Epoch 92/100\n",
      "100/100 [==============================] - 28s - loss: 0.1072 - acc: 0.9875 - val_loss: 0.3553 - val_acc: 0.9640\n",
      "Epoch 93/100\n",
      "100/100 [==============================] - 28s - loss: 0.0594 - acc: 0.9910 - val_loss: 0.6944 - val_acc: 0.9510\n",
      "Epoch 94/100\n",
      "100/100 [==============================] - 28s - loss: 0.0977 - acc: 0.9900 - val_loss: 0.4211 - val_acc: 0.9660\n",
      "Epoch 95/100\n",
      "100/100 [==============================] - 28s - loss: 0.3115 - acc: 0.9780 - val_loss: 0.5810 - val_acc: 0.9510\n",
      "Epoch 96/100\n",
      "100/100 [==============================] - 28s - loss: 0.0910 - acc: 0.9905 - val_loss: 0.3300 - val_acc: 0.9740\n",
      "Epoch 97/100\n",
      "100/100 [==============================] - 28s - loss: 0.1364 - acc: 0.9895 - val_loss: 0.4222 - val_acc: 0.9620\n",
      "Epoch 98/100\n",
      "100/100 [==============================] - 28s - loss: 0.0910 - acc: 0.9890 - val_loss: 0.3915 - val_acc: 0.9620\n",
      "Epoch 99/100\n",
      "100/100 [==============================] - 28s - loss: 0.0625 - acc: 0.9940 - val_loss: 1.3619 - val_acc: 0.9080\n",
      "Epoch 100/100\n",
      "100/100 [==============================] - 28s - loss: 0.1804 - acc: 0.9855 - val_loss: 0.5700 - val_acc: 0.9630\n"
     ]
    }
   ],
   "source": [
    "model.compile(loss='binary_crossentropy',\n",
    "              optimizer=optimizers.RMSprop(lr=1e-4),\n",
    "              metrics=['acc'])\n",
    "\n",
    "history = model.fit_generator(\n",
    "    train_generator,\n",
    "    steps_per_epoch=100,\n",
    "    epochs=100,\n",
    "    validation_data=validation_generator,\n",
    "    validation_steps=50)"
   ]
  },
  {
   "cell_type": "markdown",
   "metadata": {},
   "source": [
    "### 1.1.12 Plotting our results (3)"
   ]
  },
  {
   "cell_type": "code",
   "execution_count": 20,
   "metadata": {},
   "outputs": [
    {
     "data": {
      "image/png": "[encoded data removed]",
      "text/plain": [
       "<matplotlib.figure.Figure at 0x1d12cb56048>"
      ]
     },
     "metadata": {},
     "output_type": "display_data"
    },
    {
     "data": {
      "image/png": "[encoded data removed]",
      "text/plain": [
       "<matplotlib.figure.Figure at 0x1d12cb391d0>"
      ]
     },
     "metadata": {},
     "output_type": "display_data"
    }
   ],
   "source": [
    "import matplotlib.pyplot as plt\n",
    "\n",
    "acc = history.history['acc']\n",
    "val_acc = history.history['val_acc']\n",
    "loss = history.history['loss']\n",
    "val_loss = history.history['val_loss']\n",
    "\n",
    "epochs = range(len(acc))\n",
    "\n",
    "plt.plot(epochs, acc, 'bo')\n",
    "plt.plot(epochs, val_acc, 'b')\n",
    "plt.title('Training and validation accuracy')\n",
    "\n",
    "plt.figure()\n",
    "\n",
    "plt.plot(epochs, loss, 'bo')\n",
    "plt.plot(epochs, val_loss, 'b')\n",
    "plt.title('Training and validation accuracy')\n",
    "\n",
    "plt.show()"
   ]
  },
  {
   "cell_type": "markdown",
   "metadata": {},
   "source": [
    "### 1.1.13 Smoothing our plots and evaluation"
   ]
  },
  {
   "cell_type": "code",
   "execution_count": 23,
   "metadata": {},
   "outputs": [
    {
     "data": {
      "image/png": "[encoded data removed]",
      "text/plain": [
       "<matplotlib.figure.Figure at 0x1d12df216a0>"
      ]
     },
     "metadata": {},
     "output_type": "display_data"
    },
    {
     "data": {
      "image/png": "[encoded data removed]",
      "text/plain": [
       "<matplotlib.figure.Figure at 0x1d12fd86cc0>"
      ]
     },
     "metadata": {},
     "output_type": "display_data"
    }
   ],
   "source": [
    "def smooth_curve(points, factor=0.8):\n",
    "    smoothed_points = []\n",
    "    for point in points:\n",
    "        if smoothed_points:\n",
    "            previous = smoothed_points[-1]\n",
    "            smoothed_points.append(previous * factor + point * (1 - factor))\n",
    "        else:\n",
    "            smoothed_points.append(point)\n",
    "    return smoothed_points\n",
    "\n",
    "plt.plot(epochs, smooth_curve(acc), 'bo')\n",
    "plt.plot(epochs, smooth_curve(val_acc), 'b')\n",
    "plt.title('Training and validation accuracy')\n",
    "\n",
    "plt.figure()\n",
    "\n",
    "plt.plot(epochs, smooth_curve(loss), 'bo')\n",
    "plt.plot(epochs, smooth_curve(val_loss), 'b')\n",
    "plt.title('Training and validation loss')\n",
    "\n",
    "plt.show()"
   ]
  },
  {
   "cell_type": "code",
   "execution_count": 26,
   "metadata": {},
   "outputs": [
    {
     "name": "stdout",
     "output_type": "stream",
     "text": [
      "Found 1000 images belonging to 2 classes.\n",
      "test acc:  0.947999992073\n"
     ]
    }
   ],
   "source": [
    "test_datagen = ImageDataGenerator(rescale=1./255)\n",
    "\n",
    "test_generator = test_datagen.flow_from_directory(\n",
    "        test_dir,\n",
    "        target_size=(150, 150),\n",
    "        batch_size=20,\n",
    "        class_mode='binary')\n",
    "\n",
    "test_loss, test_acc = model.evaluate_generator(test_generator, steps=1000)\n",
    "print('test acc: ', test_acc)"
   ]
  }
 ],
 "metadata": {
  "kernelspec": {
   "display_name": "Python [default]",
   "language": "python",
   "name": "python3"
  },
  "language_info": {
   "codemirror_mode": {
    "name": "ipython",
    "version": 3
   },
   "file_extension": ".py",
   "mimetype": "text/x-python",
   "name": "python",
   "nbconvert_exporter": "python",
   "pygments_lexer": "ipython3",
   "version": "3.5.3"
  }
 },
 "nbformat": 4,
 "nbformat_minor": 2
}
